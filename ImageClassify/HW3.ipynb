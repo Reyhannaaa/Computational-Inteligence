{
 "cells": [
  {
   "cell_type": "markdown",
   "id": "8c9d0b9e",
   "metadata": {},
   "source": [
    "## Import libraries "
   ]
  },
  {
   "cell_type": "code",
   "execution_count": 1,
   "id": "f95e5817",
   "metadata": {},
   "outputs": [],
   "source": [
    "import os\n",
    "import pandas as pd\n",
    "import numpy as np\n",
    "import torchvision\n",
    "import torch \n",
    "from zipfile import ZipFile\n",
    "from torchvision.datasets import ImageFolder\n",
    "from torchvision.transforms import ToTensor\n",
    "from torch.utils.data import random_split\n",
    "import torch.nn as nn\n",
    "import torch.nn.functional as F\n",
    "import matplotlib.pyplot as plt\n",
    "from PIL import Image\n",
    "from torch.utils.data.dataloader import DataLoader"
   ]
  },
  {
   "cell_type": "markdown",
   "id": "924525cf",
   "metadata": {},
   "source": [
    "#### read data with zipfile and make a path for it,so it will extract in data folder"
   ]
  },
  {
   "cell_type": "code",
   "execution_count": 2,
   "id": "8f66f3bb",
   "metadata": {},
   "outputs": [],
   "source": [
    "with ZipFile('./train.zip','r') as zip:\n",
    "    zip.extractall(path = './data')"
   ]
  },
  {
   "cell_type": "code",
   "execution_count": 3,
   "id": "724bd269",
   "metadata": {},
   "outputs": [
    {
     "name": "stdout",
     "output_type": "stream",
     "text": [
      "['train.csv']\n"
     ]
    }
   ],
   "source": [
    "path = 'data'\n",
    "print(os.listdir(path))"
   ]
  },
  {
   "cell_type": "code",
   "execution_count": 4,
   "id": "9f5cdadc",
   "metadata": {},
   "outputs": [
    {
     "data": {
      "text/html": [
       "<div>\n",
       "<style scoped>\n",
       "    .dataframe tbody tr th:only-of-type {\n",
       "        vertical-align: middle;\n",
       "    }\n",
       "\n",
       "    .dataframe tbody tr th {\n",
       "        vertical-align: top;\n",
       "    }\n",
       "\n",
       "    .dataframe thead th {\n",
       "        text-align: right;\n",
       "    }\n",
       "</style>\n",
       "<table border=\"1\" class=\"dataframe\">\n",
       "  <thead>\n",
       "    <tr style=\"text-align: right;\">\n",
       "      <th></th>\n",
       "      <th>emotion</th>\n",
       "      <th>pixels</th>\n",
       "    </tr>\n",
       "  </thead>\n",
       "  <tbody>\n",
       "    <tr>\n",
       "      <th>0</th>\n",
       "      <td>0</td>\n",
       "      <td>70 80 82 72 58 58 60 63 54 58 60 48 89 115 121...</td>\n",
       "    </tr>\n",
       "    <tr>\n",
       "      <th>1</th>\n",
       "      <td>0</td>\n",
       "      <td>151 150 147 155 148 133 111 140 170 174 182 15...</td>\n",
       "    </tr>\n",
       "    <tr>\n",
       "      <th>2</th>\n",
       "      <td>2</td>\n",
       "      <td>231 212 156 164 174 138 161 173 182 200 106 38...</td>\n",
       "    </tr>\n",
       "    <tr>\n",
       "      <th>3</th>\n",
       "      <td>4</td>\n",
       "      <td>24 32 36 30 32 23 19 20 30 41 21 22 32 34 21 1...</td>\n",
       "    </tr>\n",
       "    <tr>\n",
       "      <th>4</th>\n",
       "      <td>6</td>\n",
       "      <td>4 0 0 0 0 0 0 0 0 0 0 0 3 15 23 28 48 50 58 84...</td>\n",
       "    </tr>\n",
       "  </tbody>\n",
       "</table>\n",
       "</div>"
      ],
      "text/plain": [
       "   emotion                                             pixels\n",
       "0        0  70 80 82 72 58 58 60 63 54 58 60 48 89 115 121...\n",
       "1        0  151 150 147 155 148 133 111 140 170 174 182 15...\n",
       "2        2  231 212 156 164 174 138 161 173 182 200 106 38...\n",
       "3        4  24 32 36 30 32 23 19 20 30 41 21 22 32 34 21 1...\n",
       "4        6  4 0 0 0 0 0 0 0 0 0 0 0 3 15 23 28 48 50 58 84..."
      ]
     },
     "execution_count": 4,
     "metadata": {},
     "output_type": "execute_result"
    }
   ],
   "source": [
    "df = pd.read_csv('./data/train.csv')\n",
    "df.head()"
   ]
  },
  {
   "cell_type": "code",
   "execution_count": 5,
   "id": "e06bff6b",
   "metadata": {},
   "outputs": [
    {
     "name": "stdout",
     "output_type": "stream",
     "text": [
      "Images:  28709\n",
      "Features: ['emotion' 'pixels']\n",
      "emotion : 7\n",
      "pixels : 27473\n"
     ]
    }
   ],
   "source": [
    "print(\"Images: \",df.shape[0])\n",
    "print(\"Features:\",df.columns.values)\n",
    "for col in df:\n",
    "    print(col,\":\",len(df[col].unique()))"
   ]
  },
  {
   "cell_type": "markdown",
   "id": "8a32dbf1",
   "metadata": {},
   "source": [
    "#### we should know the type of columns to use their data"
   ]
  },
  {
   "cell_type": "code",
   "execution_count": 6,
   "id": "2fbfbadc",
   "metadata": {},
   "outputs": [
    {
     "data": {
      "text/plain": [
       "emotion     int64\n",
       "pixels     object\n",
       "dtype: object"
      ]
     },
     "execution_count": 6,
     "metadata": {},
     "output_type": "execute_result"
    }
   ],
   "source": [
    "df.dtypes"
   ]
  },
  {
   "cell_type": "code",
   "execution_count": 7,
   "id": "dcd355b9",
   "metadata": {},
   "outputs": [
    {
     "data": {
      "text/plain": [
       "str"
      ]
     },
     "execution_count": 7,
     "metadata": {},
     "output_type": "execute_result"
    }
   ],
   "source": [
    "type(df['pixels'][0])"
   ]
  },
  {
   "cell_type": "markdown",
   "id": "db2eb2f9",
   "metadata": {},
   "source": [
    "#### we should convert string to int for pixels"
   ]
  },
  {
   "cell_type": "code",
   "execution_count": 8,
   "id": "0da77502",
   "metadata": {},
   "outputs": [],
   "source": [
    "def conv_Int(string):\n",
    "    num = 0;\n",
    "    for i in string:\n",
    "        num = num*10 + ord(i) - ord(\"0\")\n",
    "    return num"
   ]
  },
  {
   "cell_type": "markdown",
   "id": "9318b494",
   "metadata": {},
   "source": [
    "#### At first I made 2 folders for test and train \n",
    "#### I found the emotion and for work easier with these datas,made folder for each of them in both test and train folders."
   ]
  },
  {
   "cell_type": "code",
   "execution_count": 9,
   "id": "d2f6af70",
   "metadata": {},
   "outputs": [],
   "source": [
    "extr_files = ['test','train']\n",
    "inner_fold = ['angry', 'disgusted', 'fearful', 'happy', 'sad', 'surprised', 'neutral']\n",
    "os.makedirs('data', exist_ok=True)\n",
    "for outer_name in extr_files:\n",
    "    os.makedirs(os.path.join('data',outer_name), exist_ok=True)\n",
    "    for inner_name in inner_fold:\n",
    "        os.makedirs(os.path.join('data',outer_name,inner_name), exist_ok=True)"
   ]
  },
  {
   "cell_type": "markdown",
   "id": "1ab4173c",
   "metadata": {},
   "source": [
    "#### count of each label for both test and train"
   ]
  },
  {
   "cell_type": "code",
   "execution_count": 10,
   "id": "b6615fda",
   "metadata": {},
   "outputs": [],
   "source": [
    "angry = 0\n",
    "disgusted = 0\n",
    "fearful = 0\n",
    "happy = 0\n",
    "sad = 0\n",
    "surprised = 0\n",
    "neutral = 0\n",
    "\n",
    "angry_test = 0\n",
    "disgusted_test = 0\n",
    "fearful_test = 0\n",
    "happy_test = 0\n",
    "sad_test = 0\n",
    "surprised_test = 0\n",
    "neutral_test = 0"
   ]
  },
  {
   "cell_type": "markdown",
   "id": "c1423b12",
   "metadata": {},
   "source": [
    "### make a 48*48 matrix and fill it by pixels data after converting string datas in pixels column to int"
   ]
  },
  {
   "cell_type": "markdown",
   "id": "e24b18ad",
   "metadata": {},
   "source": [
    "#### then push images to folders we made due to its label\n",
    "#### set 20709 data for train and validation,and 8000 data for test phase."
   ]
  },
  {
   "cell_type": "code",
   "execution_count": 11,
   "id": "72baced9",
   "metadata": {},
   "outputs": [],
   "source": [
    "matrix = np.zeros((48,48),dtype=np.uint8)\n",
    "\n",
    "for i in range(len(df)):\n",
    "    text = df['pixels'][i]\n",
    "    words = text.split()\n",
    "    \n",
    "    for j in range(2304):\n",
    "        x_ind = j // 48\n",
    "        y_ind = j % 48\n",
    "        matrix[x_ind][y_ind] = conv_Int(words[j])\n",
    "\n",
    "    img = Image.fromarray(matrix)\n",
    "    \n",
    "    if i < 20709:\n",
    "        if df['emotion'][i] == 0:\n",
    "            img.save('./data/train/angry/im'+str(angry)+'.png')\n",
    "            angry += 1\n",
    "        elif df['emotion'][i] == 1:\n",
    "            img.save('./data/train/disgusted/im'+str(disgusted)+'.png')\n",
    "            disgusted += 1\n",
    "        elif df['emotion'][i] == 2:\n",
    "            img.save('./data/train/fearful/im'+str(fearful)+'.png')\n",
    "            fearful += 1\n",
    "        elif df['emotion'][i] == 3:\n",
    "            img.save('./data/train/happy/im'+str(happy)+'.png')\n",
    "            happy += 1\n",
    "        elif df['emotion'][i] == 4:\n",
    "            img.save('./data/train/sad/im'+str(sad)+'.png')\n",
    "            sad += 1\n",
    "        elif df['emotion'][i] == 5:\n",
    "            img.save('./data/train/surprised/im'+str(surprised)+'.png')\n",
    "            surprised += 1\n",
    "        elif df['emotion'][i] == 6:\n",
    "            img.save('./data/train/neutral/im'+str(neutral)+'.png')\n",
    "            neutral += 1\n",
    "    else:\n",
    "        if df['emotion'][i] == 0:\n",
    "            img.save('./data/test/angry/im'+str(angry_test)+'.png')\n",
    "            angry_test += 1\n",
    "        elif df['emotion'][i] == 1:\n",
    "            img.save('./data/test/disgusted/im'+str(disgusted_test)+'.png')\n",
    "            disgusted_test += 1\n",
    "        elif df['emotion'][i] == 2:\n",
    "            img.save('./data/test/fearful/im'+str(fearful_test)+'.png')\n",
    "            fearful_test += 1\n",
    "        elif df['emotion'][i] == 3:\n",
    "            img.save('./data/test/happy/im'+str(happy_test)+'.png')\n",
    "            happy_test += 1\n",
    "        elif df['emotion'][i] == 4:\n",
    "            img.save('./data/test/sad/im'+str(sad_test)+'.png')\n",
    "            sad_test += 1\n",
    "        elif df['emotion'][i] == 5:\n",
    "            img.save('./data/test/surprised/im'+str(surprised_test)+'.png')\n",
    "            surprised_test += 1\n",
    "        elif df['emotion'][i] == 6:\n",
    "            img.save('./data/test/neutral/im'+str(neutral_test)+'.png')\n",
    "            neutral_test += 1"
   ]
  },
  {
   "cell_type": "markdown",
   "id": "f20913e3",
   "metadata": {},
   "source": [
    "#### create another dataset with all the image folders created in train folder,to train model. that has 7 classes mentioned before"
   ]
  },
  {
   "cell_type": "code",
   "execution_count": 12,
   "id": "2fb2f0c1",
   "metadata": {},
   "outputs": [],
   "source": [
    "Images_dataset = ImageFolder('./data/train', transform = ToTensor())"
   ]
  },
  {
   "cell_type": "code",
   "execution_count": 13,
   "id": "10dedfde",
   "metadata": {},
   "outputs": [
    {
     "data": {
      "text/plain": [
       "20709"
      ]
     },
     "execution_count": 13,
     "metadata": {},
     "output_type": "execute_result"
    }
   ],
   "source": [
    "len(Images_dataset)"
   ]
  },
  {
   "cell_type": "markdown",
   "id": "6c9e8598",
   "metadata": {},
   "source": [
    "#### it has been normalized."
   ]
  },
  {
   "cell_type": "code",
   "execution_count": 14,
   "id": "e9d19601",
   "metadata": {},
   "outputs": [
    {
     "name": "stdout",
     "output_type": "stream",
     "text": [
      "torch.Size([3, 48, 48]) 0\n"
     ]
    },
    {
     "data": {
      "text/plain": [
       "tensor([[[0.2745, 0.3137, 0.3216,  ..., 0.2039, 0.1686, 0.1608],\n",
       "         [0.2549, 0.2392, 0.2275,  ..., 0.2196, 0.2039, 0.1725],\n",
       "         [0.1961, 0.1686, 0.2118,  ..., 0.1922, 0.2196, 0.1843],\n",
       "         ...,\n",
       "         [0.3569, 0.2549, 0.1647,  ..., 0.2824, 0.2196, 0.1686],\n",
       "         [0.3020, 0.3216, 0.3098,  ..., 0.4118, 0.2745, 0.1804],\n",
       "         [0.3020, 0.2824, 0.3294,  ..., 0.4157, 0.4275, 0.3216]],\n",
       "\n",
       "        [[0.2745, 0.3137, 0.3216,  ..., 0.2039, 0.1686, 0.1608],\n",
       "         [0.2549, 0.2392, 0.2275,  ..., 0.2196, 0.2039, 0.1725],\n",
       "         [0.1961, 0.1686, 0.2118,  ..., 0.1922, 0.2196, 0.1843],\n",
       "         ...,\n",
       "         [0.3569, 0.2549, 0.1647,  ..., 0.2824, 0.2196, 0.1686],\n",
       "         [0.3020, 0.3216, 0.3098,  ..., 0.4118, 0.2745, 0.1804],\n",
       "         [0.3020, 0.2824, 0.3294,  ..., 0.4157, 0.4275, 0.3216]],\n",
       "\n",
       "        [[0.2745, 0.3137, 0.3216,  ..., 0.2039, 0.1686, 0.1608],\n",
       "         [0.2549, 0.2392, 0.2275,  ..., 0.2196, 0.2039, 0.1725],\n",
       "         [0.1961, 0.1686, 0.2118,  ..., 0.1922, 0.2196, 0.1843],\n",
       "         ...,\n",
       "         [0.3569, 0.2549, 0.1647,  ..., 0.2824, 0.2196, 0.1686],\n",
       "         [0.3020, 0.3216, 0.3098,  ..., 0.4118, 0.2745, 0.1804],\n",
       "         [0.3020, 0.2824, 0.3294,  ..., 0.4157, 0.4275, 0.3216]]])"
      ]
     },
     "execution_count": 14,
     "metadata": {},
     "output_type": "execute_result"
    }
   ],
   "source": [
    "image, label = Images_dataset[0]\n",
    "print(image.shape, label)\n",
    "image"
   ]
  },
  {
   "cell_type": "markdown",
   "id": "ac4983cb",
   "metadata": {},
   "source": [
    "#### show images and its label"
   ]
  },
  {
   "cell_type": "code",
   "execution_count": 15,
   "id": "51381d16",
   "metadata": {},
   "outputs": [],
   "source": [
    "def show_example(img, label):\n",
    "    print('Label: ', Images_dataset.classes[label], \"(\"+str(label)+\")\")\n",
    "    plt.imshow(img.permute(1, 2, 0))"
   ]
  },
  {
   "cell_type": "code",
   "execution_count": 16,
   "id": "5dc6a1f4",
   "metadata": {},
   "outputs": [
    {
     "name": "stdout",
     "output_type": "stream",
     "text": [
      "Label:  angry (0)\n"
     ]
    },
    {
     "data": {
      "image/png": "[encoded data removed]",
      "text/plain": [
       "<Figure size 432x288 with 1 Axes>"
      ]
     },
     "metadata": {
      "needs_background": "light"
     },
     "output_type": "display_data"
    }
   ],
   "source": [
    "show_example(*Images_dataset[0])"
   ]
  },
  {
   "cell_type": "code",
   "execution_count": 17,
   "id": "4aef3d7c",
   "metadata": {},
   "outputs": [
    {
     "name": "stdout",
     "output_type": "stream",
     "text": [
      "Label:  surprised (6)\n"
     ]
    },
    {
     "data": {
      "image/png": "[encoded data removed]",
      "text/plain": [
       "<Figure size 432x288 with 1 Axes>"
      ]
     },
     "metadata": {
      "needs_background": "light"
     },
     "output_type": "display_data"
    }
   ],
   "source": [
    "show_example(*Images_dataset[20000])"
   ]
  },
  {
   "cell_type": "code",
   "execution_count": 18,
   "id": "3b7e9063",
   "metadata": {},
   "outputs": [],
   "source": [
    "random_seed = 30\n",
    "torch.manual_seed(random_seed);"
   ]
  },
  {
   "cell_type": "markdown",
   "id": "15b16c4f",
   "metadata": {},
   "source": [
    "#### define the size of validation to 3000 and train size would be 17709"
   ]
  },
  {
   "cell_type": "code",
   "execution_count": 20,
   "id": "e5a02aac",
   "metadata": {},
   "outputs": [
    {
     "data": {
      "text/plain": [
       "(17709, 3000)"
      ]
     },
     "execution_count": 20,
     "metadata": {},
     "output_type": "execute_result"
    }
   ],
   "source": [
    "val_size = 3000\n",
    "train_size = len(Images_dataset) - val_size\n",
    "\n",
    "train_ds, val_ds = random_split(Images_dataset, [train_size, val_size])\n",
    "len(train_ds), len(val_ds)"
   ]
  },
  {
   "cell_type": "markdown",
   "id": "a8ee20de",
   "metadata": {},
   "source": [
    "#### define batch size to 128,it means in every cycle training we give the model batch of 128 images to train;and for validation set batch size to 256. "
   ]
  },
  {
   "cell_type": "code",
   "execution_count": 21,
   "id": "e2f755fc",
   "metadata": {},
   "outputs": [],
   "source": [
    "train_dl = DataLoader(train_ds, 128, shuffle=True, num_workers=4, pin_memory=True)\n",
    "val_dl = DataLoader(val_ds,256, num_workers=4, pin_memory=True)"
   ]
  },
  {
   "cell_type": "markdown",
   "id": "86e2170d",
   "metadata": {},
   "source": [
    "#### in CnnLayer class we made the layers of our mode architechture.\n",
    "#### I used convolve function to do Conv2d(make convolution using input channels,output channels and kernel size;for instance when our image is rgb we have 3 channels as input,we also set padding = 1 to edit image in best way.),BatchNorm2d(that help us to normalize our batch and prevent from overfitting),ReLu function and MaxPool2d(if we needed).and do all them in sequence and return it."
   ]
  },
  {
   "cell_type": "code",
   "execution_count": 22,
   "id": "95aed33b",
   "metadata": {},
   "outputs": [],
   "source": [
    "def convolve(in_channel,out_channel,max_pool):\n",
    "    layers = [nn.Conv2d(in_channel, out_channel, kernel_size=3, padding=1), \n",
    "              nn.BatchNorm2d(out_channel), \n",
    "              nn.ReLU(inplace=True)]\n",
    "    if max_pool: layers.append(nn.MaxPool2d(2,2))\n",
    "    return nn.Sequential(*layers)\n",
    "    "
   ]
  },
  {
   "cell_type": "markdown",
   "id": "eba40f87",
   "metadata": {},
   "source": [
    "### In CnnLayer constructor made 4 convolution with convolve function explained before.\n",
    "#### at first we give 3 channels of our images and want 64 output channels,then dropout some norons to prevent overfitting.\n",
    "#### we gave 64 output channels from last conv,as an input to next convolve (2),and this time we want to max_pool it.\n",
    "#### as a result we convolve two 128 channels and make them in sequence.\n",
    "#### then like before do the same but this time with 128 channels and dropout again , ...\n",
    "#### at the last dropout we increase the norons that should be droped,to make our model better.\n",
    "#### then classify it in sequential layer that did maxpooling and flatten it then we can build the linear model to map it to 7 values."
   ]
  },
  {
   "cell_type": "markdown",
   "id": "8d2788ab",
   "metadata": {},
   "source": [
    "### In training_step \n",
    "#### we derivate images and labels from tarining batch and predict labels using forward function(will be explained later) in layers\n",
    "#### calculate loss using cross_entropy method\n",
    "#### calculate accuracy using writen accuracy function (will be explained later)\n",
    "#### return calculated loss and accuracy"
   ]
  },
  {
   "cell_type": "markdown",
   "id": "851f6a82",
   "metadata": {},
   "source": [
    "### In validation_step\n",
    "#### do the same thing as training step but this time for validation batch."
   ]
  },
  {
   "cell_type": "markdown",
   "id": "9183cb46",
   "metadata": {},
   "source": [
    "### In validation_epoch_end\n",
    "#### calculate loss and accuracy for every images in batch and save it in batch_losses and batch_accs array.\n",
    "#### in epoch_loss and epoch_accs combine losses and accuracies that have been calculated."
   ]
  },
  {
   "cell_type": "markdown",
   "id": "f6532ff5",
   "metadata": {},
   "source": [
    "### In epoch_end\n",
    "#### it just show the results (accuracy and loss) at the end of each epoch"
   ]
  },
  {
   "cell_type": "markdown",
   "id": "e8378628",
   "metadata": {},
   "source": [
    "### In forward func\n",
    "#### Defining the forward pass that passes the result between layers by taking image and return output.\n",
    "#### actually it's the core of our cnn."
   ]
  },
  {
   "cell_type": "code",
   "execution_count": null,
   "id": "fd580629",
   "metadata": {},
   "outputs": [],
   "source": [
    "class CnnLayer(nn.Module):   \n",
    "    def __init__(self):\n",
    "        super().__init__()\n",
    "\n",
    "        self.conv1 = convolve(3, 64, max_pool=False)\n",
    "        self.dropout = nn.Dropout(0.25)\n",
    "        self.conv2 = convolve(64, 128, max_pool=True)\n",
    "        self.res1 = nn.Sequential(convolve(128, 128, max_pool=False), convolve(128, 128, max_pool=False))\n",
    "        \n",
    "        self.conv3 = convolve(128, 256, max_pool=True)\n",
    "        self.dropout = nn.Dropout(0.25)\n",
    "        self.conv4 = convolve(256, 512, max_pool=True)\n",
    "        self.res2 = nn.Sequential(convolve(512, 512, max_pool=False), convolve(512, 512, max_pool=False))\n",
    "        \n",
    "        self.dropout = nn.Dropout(0.35)\n",
    "        self.classifier = nn.Sequential(nn.MaxPool2d(4), \n",
    "                                        nn.Flatten(), \n",
    "                                        nn.Linear(512, 7))\n",
    "        \n",
    "    def training_step(self, batch):\n",
    "        images, labels = batch \n",
    "        out = self(images)                  \n",
    "        loss = F.cross_entropy(out, labels) \n",
    "        accu = accuracy(out,labels)\n",
    "        return loss,accu\n",
    "    \n",
    "    def validation_step(self, batch):\n",
    "        images, labels = batch \n",
    "        out = self(images)                    \n",
    "        loss = F.cross_entropy(out, labels)   \n",
    "        acc = accuracy(out, labels)           \n",
    "        return {'Loss': loss.detach(), 'Accuracy': acc}\n",
    "        \n",
    "    def validation_epoch_end(self, outputs):\n",
    "        batch_losses = [x['Loss'] for x in outputs]\n",
    "        epoch_loss = torch.stack(batch_losses).mean()   \n",
    "        batch_accs = [x['Accuracy'] for x in outputs]\n",
    "        epoch_acc = torch.stack(batch_accs).mean()      \n",
    "        return {'Loss': epoch_loss.item(), 'Accuracy': epoch_acc.item()}\n",
    "    \n",
    "    def epoch_end(self, epoch, result):\n",
    "        print(\"Epoch :\",epoch + 1)\n",
    "        print(f'Train Accuracy:{result[\"train_accuracy\"]*100:.2f}% Validation Accuracy:{result[\"Accuracy\"]*100:.2f}%')\n",
    "        print(f'Train Loss:{result[\"train_loss\"]:.4f} Validation Loss:{result[\"Loss\"]:.4f}')\n",
    "        \n",
    "    \n",
    "    def forward(self, inp):\n",
    "        out = self.conv1(inp)\n",
    "        out = self.conv2(out)\n",
    "        out = self.res1(out) + out\n",
    "        out = self.conv3(out)\n",
    "        out = self.conv4(out)\n",
    "        out = self.res2(out) + out\n",
    "        out = self.classifier(out)\n",
    "        return out"
   ]
  },
  {
   "cell_type": "markdown",
   "id": "a2595d3b",
   "metadata": {},
   "source": [
    "#### construct the model and call it"
   ]
  },
  {
   "cell_type": "code",
   "execution_count": 24,
   "id": "996c8f5d",
   "metadata": {},
   "outputs": [
    {
     "data": {
      "text/plain": [
       "CnnLayer(\n",
       "  (conv1): Sequential(\n",
       "    (0): Conv2d(3, 64, kernel_size=(3, 3), stride=(1, 1), padding=(1, 1))\n",
       "    (1): BatchNorm2d(64, eps=1e-05, momentum=0.1, affine=True, track_running_stats=True)\n",
       "    (2): ReLU(inplace=True)\n",
       "  )\n",
       "  (dropout): Dropout(p=0.35, inplace=False)\n",
       "  (conv2): Sequential(\n",
       "    (0): Conv2d(64, 128, kernel_size=(3, 3), stride=(1, 1), padding=(1, 1))\n",
       "    (1): BatchNorm2d(128, eps=1e-05, momentum=0.1, affine=True, track_running_stats=True)\n",
       "    (2): ReLU(inplace=True)\n",
       "    (3): MaxPool2d(kernel_size=2, stride=2, padding=0, dilation=1, ceil_mode=False)\n",
       "  )\n",
       "  (res1): Sequential(\n",
       "    (0): Sequential(\n",
       "      (0): Conv2d(128, 128, kernel_size=(3, 3), stride=(1, 1), padding=(1, 1))\n",
       "      (1): BatchNorm2d(128, eps=1e-05, momentum=0.1, affine=True, track_running_stats=True)\n",
       "      (2): ReLU(inplace=True)\n",
       "    )\n",
       "    (1): Sequential(\n",
       "      (0): Conv2d(128, 128, kernel_size=(3, 3), stride=(1, 1), padding=(1, 1))\n",
       "      (1): BatchNorm2d(128, eps=1e-05, momentum=0.1, affine=True, track_running_stats=True)\n",
       "      (2): ReLU(inplace=True)\n",
       "    )\n",
       "  )\n",
       "  (conv3): Sequential(\n",
       "    (0): Conv2d(128, 256, kernel_size=(3, 3), stride=(1, 1), padding=(1, 1))\n",
       "    (1): BatchNorm2d(256, eps=1e-05, momentum=0.1, affine=True, track_running_stats=True)\n",
       "    (2): ReLU(inplace=True)\n",
       "    (3): MaxPool2d(kernel_size=2, stride=2, padding=0, dilation=1, ceil_mode=False)\n",
       "  )\n",
       "  (conv4): Sequential(\n",
       "    (0): Conv2d(256, 512, kernel_size=(3, 3), stride=(1, 1), padding=(1, 1))\n",
       "    (1): BatchNorm2d(512, eps=1e-05, momentum=0.1, affine=True, track_running_stats=True)\n",
       "    (2): ReLU(inplace=True)\n",
       "    (3): MaxPool2d(kernel_size=2, stride=2, padding=0, dilation=1, ceil_mode=False)\n",
       "  )\n",
       "  (res2): Sequential(\n",
       "    (0): Sequential(\n",
       "      (0): Conv2d(512, 512, kernel_size=(3, 3), stride=(1, 1), padding=(1, 1))\n",
       "      (1): BatchNorm2d(512, eps=1e-05, momentum=0.1, affine=True, track_running_stats=True)\n",
       "      (2): ReLU(inplace=True)\n",
       "    )\n",
       "    (1): Sequential(\n",
       "      (0): Conv2d(512, 512, kernel_size=(3, 3), stride=(1, 1), padding=(1, 1))\n",
       "      (1): BatchNorm2d(512, eps=1e-05, momentum=0.1, affine=True, track_running_stats=True)\n",
       "      (2): ReLU(inplace=True)\n",
       "    )\n",
       "  )\n",
       "  (classifier): Sequential(\n",
       "    (0): MaxPool2d(kernel_size=4, stride=4, padding=0, dilation=1, ceil_mode=False)\n",
       "    (1): Flatten(start_dim=1, end_dim=-1)\n",
       "    (2): Linear(in_features=512, out_features=7, bias=True)\n",
       "  )\n",
       ")"
      ]
     },
     "execution_count": 24,
     "metadata": {},
     "output_type": "execute_result"
    }
   ],
   "source": [
    "model = CnnLayer()\n",
    "model"
   ]
  },
  {
   "cell_type": "markdown",
   "id": "8a794369",
   "metadata": {},
   "source": [
    "### In accuracy func\n",
    "#### using pytorch library to get best prediction of outputs then return the accuracy due to its formula\n",
    "### In evaluate func\n",
    "#### call eval method\n",
    "#### for each step we take the batch loaded from the data loader, and output is calculated\n",
    "#### output will be passed to validation epoch"
   ]
  },
  {
   "cell_type": "code",
   "execution_count": 25,
   "id": "4aa8bef8",
   "metadata": {},
   "outputs": [],
   "source": [
    "def accuracy(outputs, labels):\n",
    "    _, preds = torch.max(outputs, dim=1)\n",
    "    return torch.tensor(torch.sum(preds == labels).item() / len(preds))\n",
    "\n",
    "def evaluate(model, data_loader):\n",
    "    model.eval()\n",
    "    outputs = [model.validation_step(batch) for batch in data_loader]\n",
    "    return model.validation_epoch_end(outputs)"
   ]
  },
  {
   "cell_type": "markdown",
   "id": "016b9531",
   "metadata": {},
   "source": [
    "### Fit\n",
    "#### it takes model,train data and valid data with number of epochs and the first early learning rate.\n",
    "#### in the history array takes care of the iteration data of every epoch.\n",
    "#### using Adam optimizer to find best learning rate.\n",
    "#### using a for loop to iterate over each epoch.\n",
    "#### at first phase in for loop we train our model and for each batch in our train data will calculate loss and accuracy using training_step func.\n",
    "#### The go for backward propagation and run optimizer which we defined earlier.\n",
    "#### at the validate phase,we evaluate model by valid data and our model\n",
    "#### and calculate the average loss and accuracy,then show epoch end.\n",
    "#### then find best accuracy and save the trained model in a path named model(later i print that to check it.)\n",
    "\n"
   ]
  },
  {
   "cell_type": "code",
   "execution_count": 32,
   "id": "e0e04b12",
   "metadata": {},
   "outputs": [],
   "source": [
    "def fit(model, train_dl, val_dl,epochs=5,learning_rate=0.01):\n",
    "    best_valid = None\n",
    "    history = []\n",
    "    optimizer = torch.optim.Adam(model.parameters(), learning_rate,weight_decay=0.0005)\n",
    "    for epoch in range(epochs):\n",
    "        # Training Phase \n",
    "        model.train()\n",
    "        train_losses = []\n",
    "        train_accuracy = []\n",
    "        for batch in (train_dl):\n",
    "            loss,accu = model.training_step(batch)\n",
    "            train_losses.append(loss)\n",
    "            train_accuracy.append(accu)\n",
    "            loss.backward()\n",
    "            optimizer.step()\n",
    "            optimizer.zero_grad()\n",
    "        # Validation phase\n",
    "        result = evaluate(model, val_dl)\n",
    "        result['train_loss'] = torch.stack(train_losses).mean().item()\n",
    "        result['train_accuracy'] = torch.stack(train_accuracy).mean().item()\n",
    "        model.epoch_end(epoch, result)\n",
    "        if(best_valid == None or best_valid<result['Accuracy']):\n",
    "            best_valid=result['Accuracy']\n",
    "            torch.save(model.state_dict(), 'model')\n",
    "        history.append(result)\n",
    "    return history"
   ]
  },
  {
   "cell_type": "markdown",
   "id": "475fcb11",
   "metadata": {},
   "source": [
    "### fit the model"
   ]
  },
  {
   "cell_type": "code",
   "execution_count": 30,
   "id": "30e6d178",
   "metadata": {},
   "outputs": [
    {
     "name": "stdout",
     "output_type": "stream",
     "text": [
      "Epoch : 1\n",
      "Train Accuracy:23.83% Validation Accuracy:26.29%\n",
      "Train Loss:2.1012 Validation Loss:1.8088\n",
      "Epoch : 2\n",
      "Train Accuracy:27.89% Validation Accuracy:29.02%\n",
      "Train Loss:1.7466 Validation Loss:1.7274\n",
      "Epoch : 3\n",
      "Train Accuracy:34.50% Validation Accuracy:34.44%\n",
      "Train Loss:1.6403 Validation Loss:1.6701\n",
      "Epoch : 4\n",
      "Train Accuracy:44.39% Validation Accuracy:41.95%\n",
      "Train Loss:1.4373 Validation Loss:1.5006\n",
      "Epoch : 5\n",
      "Train Accuracy:49.76% Validation Accuracy:38.29%\n",
      "Train Loss:1.3177 Validation Loss:1.5774\n",
      "Epoch : 6\n",
      "Train Accuracy:51.94% Validation Accuracy:50.53%\n",
      "Train Loss:1.2530 Validation Loss:1.2929\n",
      "Epoch : 7\n",
      "Train Accuracy:53.92% Validation Accuracy:48.40%\n",
      "Train Loss:1.2098 Validation Loss:1.3338\n",
      "Epoch : 8\n",
      "Train Accuracy:54.17% Validation Accuracy:50.24%\n",
      "Train Loss:1.2049 Validation Loss:1.3158\n",
      "Epoch : 9\n",
      "Train Accuracy:55.84% Validation Accuracy:45.78%\n",
      "Train Loss:1.1696 Validation Loss:1.4219\n",
      "Epoch : 10\n",
      "Train Accuracy:55.88% Validation Accuracy:53.47%\n",
      "Train Loss:1.1518 Validation Loss:1.2015\n"
     ]
    }
   ],
   "source": [
    "history = fit(model, train_dl, val_dl)"
   ]
  },
  {
   "cell_type": "markdown",
   "id": "b0549097",
   "metadata": {},
   "source": [
    "### at first fit i just set epochs number to 10,then i found the accuracy is not good enough,so i used save trained model to boost it."
   ]
  },
  {
   "cell_type": "code",
   "execution_count": 31,
   "id": "59752a7c",
   "metadata": {},
   "outputs": [
    {
     "data": {
      "text/plain": [
       "CnnLayer(\n",
       "  (conv1): Sequential(\n",
       "    (0): Conv2d(3, 64, kernel_size=(3, 3), stride=(1, 1), padding=(1, 1))\n",
       "    (1): BatchNorm2d(64, eps=1e-05, momentum=0.1, affine=True, track_running_stats=True)\n",
       "    (2): ReLU(inplace=True)\n",
       "  )\n",
       "  (dropout): Dropout(p=0.35, inplace=False)\n",
       "  (conv2): Sequential(\n",
       "    (0): Conv2d(64, 128, kernel_size=(3, 3), stride=(1, 1), padding=(1, 1))\n",
       "    (1): BatchNorm2d(128, eps=1e-05, momentum=0.1, affine=True, track_running_stats=True)\n",
       "    (2): ReLU(inplace=True)\n",
       "    (3): MaxPool2d(kernel_size=2, stride=2, padding=0, dilation=1, ceil_mode=False)\n",
       "  )\n",
       "  (res1): Sequential(\n",
       "    (0): Sequential(\n",
       "      (0): Conv2d(128, 128, kernel_size=(3, 3), stride=(1, 1), padding=(1, 1))\n",
       "      (1): BatchNorm2d(128, eps=1e-05, momentum=0.1, affine=True, track_running_stats=True)\n",
       "      (2): ReLU(inplace=True)\n",
       "    )\n",
       "    (1): Sequential(\n",
       "      (0): Conv2d(128, 128, kernel_size=(3, 3), stride=(1, 1), padding=(1, 1))\n",
       "      (1): BatchNorm2d(128, eps=1e-05, momentum=0.1, affine=True, track_running_stats=True)\n",
       "      (2): ReLU(inplace=True)\n",
       "    )\n",
       "  )\n",
       "  (conv3): Sequential(\n",
       "    (0): Conv2d(128, 256, kernel_size=(3, 3), stride=(1, 1), padding=(1, 1))\n",
       "    (1): BatchNorm2d(256, eps=1e-05, momentum=0.1, affine=True, track_running_stats=True)\n",
       "    (2): ReLU(inplace=True)\n",
       "    (3): MaxPool2d(kernel_size=2, stride=2, padding=0, dilation=1, ceil_mode=False)\n",
       "  )\n",
       "  (conv4): Sequential(\n",
       "    (0): Conv2d(256, 512, kernel_size=(3, 3), stride=(1, 1), padding=(1, 1))\n",
       "    (1): BatchNorm2d(512, eps=1e-05, momentum=0.1, affine=True, track_running_stats=True)\n",
       "    (2): ReLU(inplace=True)\n",
       "    (3): MaxPool2d(kernel_size=2, stride=2, padding=0, dilation=1, ceil_mode=False)\n",
       "  )\n",
       "  (res2): Sequential(\n",
       "    (0): Sequential(\n",
       "      (0): Conv2d(512, 512, kernel_size=(3, 3), stride=(1, 1), padding=(1, 1))\n",
       "      (1): BatchNorm2d(512, eps=1e-05, momentum=0.1, affine=True, track_running_stats=True)\n",
       "      (2): ReLU(inplace=True)\n",
       "    )\n",
       "    (1): Sequential(\n",
       "      (0): Conv2d(512, 512, kernel_size=(3, 3), stride=(1, 1), padding=(1, 1))\n",
       "      (1): BatchNorm2d(512, eps=1e-05, momentum=0.1, affine=True, track_running_stats=True)\n",
       "      (2): ReLU(inplace=True)\n",
       "    )\n",
       "  )\n",
       "  (classifier): Sequential(\n",
       "    (0): MaxPool2d(kernel_size=4, stride=4, padding=0, dilation=1, ceil_mode=False)\n",
       "    (1): Flatten(start_dim=1, end_dim=-1)\n",
       "    (2): Linear(in_features=512, out_features=7, bias=True)\n",
       "  )\n",
       ")"
      ]
     },
     "execution_count": 31,
     "metadata": {},
     "output_type": "execute_result"
    }
   ],
   "source": [
    "model2 = CnnLayer()\n",
    "model2.load_state_dict(torch.load('model'))\n",
    "model2.eval()"
   ]
  },
  {
   "cell_type": "markdown",
   "id": "e49e4d93",
   "metadata": {},
   "source": [
    "#### tried to fit the saved model again."
   ]
  },
  {
   "cell_type": "code",
   "execution_count": 33,
   "id": "987b8959",
   "metadata": {},
   "outputs": [
    {
     "name": "stdout",
     "output_type": "stream",
     "text": [
      "Epoch : 1\n",
      "Train Accuracy:57.50% Validation Accuracy:56.25%\n",
      "Train Loss:1.1145 Validation Loss:1.1778\n",
      "Epoch : 2\n",
      "Train Accuracy:58.85% Validation Accuracy:49.91%\n",
      "Train Loss:1.0838 Validation Loss:1.4703\n",
      "Epoch : 3\n",
      "Train Accuracy:60.23% Validation Accuracy:55.46%\n",
      "Train Loss:1.0575 Validation Loss:1.1901\n",
      "Epoch : 4\n",
      "Train Accuracy:60.41% Validation Accuracy:50.01%\n",
      "Train Loss:1.0487 Validation Loss:1.3219\n",
      "Epoch : 5\n",
      "Train Accuracy:61.32% Validation Accuracy:52.65%\n",
      "Train Loss:1.0235 Validation Loss:1.2746\n"
     ]
    }
   ],
   "source": [
    "history2 = fit(model2, train_dl, val_dl)"
   ]
  },
  {
   "cell_type": "markdown",
   "id": "8418a89d",
   "metadata": {},
   "source": [
    "### the validation accuracy doesn't change a lot so i stopped training,that would cause overfit."
   ]
  },
  {
   "cell_type": "markdown",
   "id": "c4dcf5e4",
   "metadata": {},
   "source": [
    "#### added new history to last history to plot the results."
   ]
  },
  {
   "cell_type": "code",
   "execution_count": 35,
   "id": "66facc40",
   "metadata": {},
   "outputs": [],
   "source": [
    "history +=history2"
   ]
  },
  {
   "cell_type": "markdown",
   "id": "618a1cd8",
   "metadata": {},
   "source": [
    "### Accuracy comparison plot"
   ]
  },
  {
   "cell_type": "code",
   "execution_count": 36,
   "id": "c24c01b7",
   "metadata": {},
   "outputs": [
    {
     "data": {
      "image/png": "[encoded data removed]",
      "text/plain": [
       "<Figure size 432x288 with 1 Axes>"
      ]
     },
     "metadata": {
      "needs_background": "light"
     },
     "output_type": "display_data"
    }
   ],
   "source": [
    "Validation_accuracies = [x['Accuracy'] for x in history]\n",
    "Training_Accuracies = [x['train_accuracy'] for x in history]\n",
    "plt.plot(Training_Accuracies, '-rx')\n",
    "plt.plot(Validation_accuracies, '-bx')\n",
    "plt.xlabel('epoch')\n",
    "plt.ylabel('accuracy')\n",
    "plt.legend(['Training', 'Validation'])\n",
    "plt.title('Accuracy vs. No. of epochs');"
   ]
  },
  {
   "cell_type": "markdown",
   "id": "d0bcfc74",
   "metadata": {},
   "source": [
    "### Loss comparison plot"
   ]
  },
  {
   "cell_type": "code",
   "execution_count": 39,
   "id": "de1e6e90",
   "metadata": {},
   "outputs": [
    {
     "data": {
      "image/png": "[encoded data removed]",
      "text/plain": [
       "<Figure size 432x288 with 1 Axes>"
      ]
     },
     "metadata": {
      "needs_background": "light"
     },
     "output_type": "display_data"
    }
   ],
   "source": [
    "train_losses = [x.get('train_loss') for x in history]\n",
    "val_losses = [x['Loss'] for x in history]\n",
    "plt.plot(train_losses, '-rx')\n",
    "plt.plot(val_losses, '-bx')\n",
    "plt.xlabel('epoch')\n",
    "plt.ylabel('loss')\n",
    "plt.legend(['Training', 'Validation'])\n",
    "plt.title('Loss vs. No. of epochs');"
   ]
  },
  {
   "cell_type": "markdown",
   "id": "9bf19289",
   "metadata": {},
   "source": [
    "#### Both decrease/increase in parallel, but after a while training loss/accuracy decreases/increases much faster than the other.\n",
    "#### I think it would be better if we use regularization and other method,although i used some of them."
   ]
  },
  {
   "cell_type": "code",
   "execution_count": null,
   "id": "eb72b0e3",
   "metadata": {},
   "outputs": [],
   "source": [
    "#### load test data in a batch with the size of 128 and evaluate it and get the accuracy."
   ]
  },
  {
   "cell_type": "code",
   "execution_count": 41,
   "id": "46b0937e",
   "metadata": {},
   "outputs": [],
   "source": [
    "test_dataset = ImageFolder('./data/test', transform=ToTensor())"
   ]
  },
  {
   "cell_type": "code",
   "execution_count": 42,
   "id": "efa4ee18",
   "metadata": {},
   "outputs": [],
   "source": [
    "test_loader = DataLoader(test_dataset, 128)"
   ]
  },
  {
   "cell_type": "code",
   "execution_count": 43,
   "id": "a8e6c7ef",
   "metadata": {},
   "outputs": [
    {
     "name": "stdout",
     "output_type": "stream",
     "text": [
      "Test Accuracy:54.41%\n"
     ]
    }
   ],
   "source": [
    "result = evaluate(model2, test_loader)\n",
    "print(f'Test Accuracy:{result[\"Accuracy\"]*100:.2f}%')"
   ]
  },
  {
   "cell_type": "markdown",
   "id": "2633d6c2",
   "metadata": {},
   "source": [
    "#### it seems it was better with earlier model :)"
   ]
  },
  {
   "cell_type": "code",
   "execution_count": 55,
   "id": "1e750d0b",
   "metadata": {},
   "outputs": [
    {
     "name": "stdout",
     "output_type": "stream",
     "text": [
      "Test Accuracy:55.39%\n"
     ]
    }
   ],
   "source": [
    "result = evaluate(model, test_loader)\n",
    "print(f'Test Accuracy:{result[\"Accuracy\"]*100:.2f}%')"
   ]
  },
  {
   "cell_type": "markdown",
   "id": "2c2ce5b7",
   "metadata": {},
   "source": [
    "#### In predict func it takes image and model\n",
    "#### at first it converts image to a batch of 1,then get predictions from model.\n",
    "#### then pick index with highest probability and retrieve the class label."
   ]
  },
  {
   "cell_type": "code",
   "execution_count": 49,
   "id": "847f92e9",
   "metadata": {},
   "outputs": [],
   "source": [
    "def predict(img, model):\n",
    "    xb = img.unsqueeze(0)\n",
    "    yb = model(xb)\n",
    "    _, preds  = torch.max(yb, dim=1)\n",
    "    return Images_dataset.classes[preds[0].item()]"
   ]
  },
  {
   "cell_type": "code",
   "execution_count": 51,
   "id": "9c518ed2",
   "metadata": {},
   "outputs": [
    {
     "name": "stdout",
     "output_type": "stream",
     "text": [
      "Label: angry , Predicted: angry\n"
     ]
    },
    {
     "data": {
      "image/png": "[encoded data removed]",
      "text/plain": [
       "<Figure size 432x288 with 1 Axes>"
      ]
     },
     "metadata": {
      "needs_background": "light"
     },
     "output_type": "display_data"
    }
   ],
   "source": [
    "img, label = test_dataset[1]\n",
    "plt.imshow(img.permute(1, 2, 0))\n",
    "print('Label:', Images_dataset.classes[label], ', Predicted:', predict_image(img, model))"
   ]
  },
  {
   "cell_type": "code",
   "execution_count": 53,
   "id": "09cf1dcf",
   "metadata": {},
   "outputs": [
    {
     "name": "stdout",
     "output_type": "stream",
     "text": [
      "Label: angry , Predicted: fearful\n"
     ]
    },
    {
     "data": {
      "image/png": "[encoded data removed]",
      "text/plain": [
       "<Figure size 432x288 with 1 Axes>"
      ]
     },
     "metadata": {
      "needs_background": "light"
     },
     "output_type": "display_data"
    }
   ],
   "source": [
    "img, label = test_dataset[12]\n",
    "plt.imshow(img.permute(1, 2, 0))\n",
    "print('Label:', Images_dataset.classes[label], ', Predicted:', predict_image(img, model))"
   ]
  },
  {
   "cell_type": "code",
   "execution_count": 54,
   "id": "b19ec0ed",
   "metadata": {},
   "outputs": [
    {
     "name": "stdout",
     "output_type": "stream",
     "text": [
      "Label: angry , Predicted: sad\n"
     ]
    },
    {
     "data": {
      "image/png": "[encoded data removed]",
      "text/plain": [
       "<Figure size 432x288 with 1 Axes>"
      ]
     },
     "metadata": {
      "needs_background": "light"
     },
     "output_type": "display_data"
    }
   ],
   "source": [
    "img, label = test_dataset[1000]\n",
    "plt.imshow(img.permute(1, 2, 0))\n",
    "print('Label:', Images_dataset.classes[label], ', Predicted:', predict_image(img, model))"
   ]
  },
  {
   "cell_type": "code",
   "execution_count": 56,
   "id": "059c42c1",
   "metadata": {},
   "outputs": [
    {
     "name": "stdout",
     "output_type": "stream",
     "text": [
      "Label: angry , Predicted: angry\n"
     ]
    },
    {
     "data": {
      "image/png": "[encoded data removed]",
      "text/plain": [
       "<Figure size 432x288 with 1 Axes>"
      ]
     },
     "metadata": {
      "needs_background": "light"
     },
     "output_type": "display_data"
    }
   ],
   "source": [
    "img, label = test_dataset[15]\n",
    "plt.imshow(img.permute(1, 2, 0))\n",
    "print('Label:', Images_dataset.classes[label], ', Predicted:', predict_image(img, model))"
   ]
  },
  {
   "cell_type": "code",
   "execution_count": 57,
   "id": "63393bf9",
   "metadata": {},
   "outputs": [
    {
     "name": "stdout",
     "output_type": "stream",
     "text": [
      "Label: surprised , Predicted: surprised\n"
     ]
    },
    {
     "data": {
      "image/png": "[encoded data removed]",
      "text/plain": [
       "<Figure size 432x288 with 1 Axes>"
      ]
     },
     "metadata": {
      "needs_background": "light"
     },
     "output_type": "display_data"
    }
   ],
   "source": [
    "img, label = test_dataset[7800]\n",
    "plt.imshow(img.permute(1, 2, 0))\n",
    "print('Label:', Images_dataset.classes[label], ', Predicted:', predict_image(img, model))"
   ]
  },
  {
   "cell_type": "markdown",
   "id": "4426a33a",
   "metadata": {},
   "source": [
    "### Conclusion\n",
    "#### this model get confused when 2 labels are similar to each other.\n",
    "#### I think change the batch size and the optimizer method could help us to boost our model.\n",
    "#### It's even better to use regulizer method to prevent from overfitting."
   ]
  }
 ],
 "metadata": {
  "kernelspec": {
   "display_name": "Python 3 (ipykernel)",
   "language": "python",
   "name": "python3"
  },
  "language_info": {
   "codemirror_mode": {
    "name": "ipython",
    "version": 3
   },
   "file_extension": ".py",
   "mimetype": "text/x-python",
   "name": "python",
   "nbconvert_exporter": "python",
   "pygments_lexer": "ipython3",
   "version": "3.7.12"
  }
 },
 "nbformat": 4,
 "nbformat_minor": 5
}
