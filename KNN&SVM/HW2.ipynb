{
 "cells": [
  {
   "cell_type": "markdown",
   "id": "dc71e5c8",
   "metadata": {},
   "source": [
    "### Import necessary libraries and read data"
   ]
  },
  {
   "cell_type": "code",
   "execution_count": 1,
   "id": "12b45546",
   "metadata": {},
   "outputs": [
    {
     "data": {
      "text/html": [
       "<div>\n",
       "<style scoped>\n",
       "    .dataframe tbody tr th:only-of-type {\n",
       "        vertical-align: middle;\n",
       "    }\n",
       "\n",
       "    .dataframe tbody tr th {\n",
       "        vertical-align: top;\n",
       "    }\n",
       "\n",
       "    .dataframe thead th {\n",
       "        text-align: right;\n",
       "    }\n",
       "</style>\n",
       "<table border=\"1\" class=\"dataframe\">\n",
       "  <thead>\n",
       "    <tr style=\"text-align: right;\">\n",
       "      <th></th>\n",
       "      <th>PassengerId</th>\n",
       "      <th>Survived</th>\n",
       "      <th>Pclass</th>\n",
       "      <th>Name</th>\n",
       "      <th>Sex</th>\n",
       "      <th>Age</th>\n",
       "      <th>SibSp</th>\n",
       "      <th>Parch</th>\n",
       "      <th>Ticket</th>\n",
       "      <th>Fare</th>\n",
       "      <th>Cabin</th>\n",
       "      <th>Embarked</th>\n",
       "    </tr>\n",
       "  </thead>\n",
       "  <tbody>\n",
       "    <tr>\n",
       "      <th>0</th>\n",
       "      <td>1</td>\n",
       "      <td>0</td>\n",
       "      <td>3</td>\n",
       "      <td>Braund, Mr. Owen Harris</td>\n",
       "      <td>male</td>\n",
       "      <td>22.0</td>\n",
       "      <td>1</td>\n",
       "      <td>0</td>\n",
       "      <td>A/5 21171</td>\n",
       "      <td>7.2500</td>\n",
       "      <td>NaN</td>\n",
       "      <td>S</td>\n",
       "    </tr>\n",
       "    <tr>\n",
       "      <th>1</th>\n",
       "      <td>2</td>\n",
       "      <td>1</td>\n",
       "      <td>1</td>\n",
       "      <td>Cumings, Mrs. John Bradley (Florence Briggs Th...</td>\n",
       "      <td>female</td>\n",
       "      <td>38.0</td>\n",
       "      <td>1</td>\n",
       "      <td>0</td>\n",
       "      <td>PC 17599</td>\n",
       "      <td>71.2833</td>\n",
       "      <td>C85</td>\n",
       "      <td>C</td>\n",
       "    </tr>\n",
       "    <tr>\n",
       "      <th>2</th>\n",
       "      <td>3</td>\n",
       "      <td>1</td>\n",
       "      <td>3</td>\n",
       "      <td>Heikkinen, Miss. Laina</td>\n",
       "      <td>female</td>\n",
       "      <td>26.0</td>\n",
       "      <td>0</td>\n",
       "      <td>0</td>\n",
       "      <td>STON/O2. 3101282</td>\n",
       "      <td>7.9250</td>\n",
       "      <td>NaN</td>\n",
       "      <td>S</td>\n",
       "    </tr>\n",
       "    <tr>\n",
       "      <th>3</th>\n",
       "      <td>4</td>\n",
       "      <td>1</td>\n",
       "      <td>1</td>\n",
       "      <td>Futrelle, Mrs. Jacques Heath (Lily May Peel)</td>\n",
       "      <td>female</td>\n",
       "      <td>35.0</td>\n",
       "      <td>1</td>\n",
       "      <td>0</td>\n",
       "      <td>113803</td>\n",
       "      <td>53.1000</td>\n",
       "      <td>C123</td>\n",
       "      <td>S</td>\n",
       "    </tr>\n",
       "    <tr>\n",
       "      <th>4</th>\n",
       "      <td>5</td>\n",
       "      <td>0</td>\n",
       "      <td>3</td>\n",
       "      <td>Allen, Mr. William Henry</td>\n",
       "      <td>male</td>\n",
       "      <td>35.0</td>\n",
       "      <td>0</td>\n",
       "      <td>0</td>\n",
       "      <td>373450</td>\n",
       "      <td>8.0500</td>\n",
       "      <td>NaN</td>\n",
       "      <td>S</td>\n",
       "    </tr>\n",
       "  </tbody>\n",
       "</table>\n",
       "</div>"
      ],
      "text/plain": [
       "   PassengerId  Survived  Pclass  \\\n",
       "0            1         0       3   \n",
       "1            2         1       1   \n",
       "2            3         1       3   \n",
       "3            4         1       1   \n",
       "4            5         0       3   \n",
       "\n",
       "                                                Name     Sex   Age  SibSp  \\\n",
       "0                            Braund, Mr. Owen Harris    male  22.0      1   \n",
       "1  Cumings, Mrs. John Bradley (Florence Briggs Th...  female  38.0      1   \n",
       "2                             Heikkinen, Miss. Laina  female  26.0      0   \n",
       "3       Futrelle, Mrs. Jacques Heath (Lily May Peel)  female  35.0      1   \n",
       "4                           Allen, Mr. William Henry    male  35.0      0   \n",
       "\n",
       "   Parch            Ticket     Fare Cabin Embarked  \n",
       "0      0         A/5 21171   7.2500   NaN        S  \n",
       "1      0          PC 17599  71.2833   C85        C  \n",
       "2      0  STON/O2. 3101282   7.9250   NaN        S  \n",
       "3      0            113803  53.1000  C123        S  \n",
       "4      0            373450   8.0500   NaN        S  "
      ]
     },
     "execution_count": 1,
     "metadata": {},
     "output_type": "execute_result"
    }
   ],
   "source": [
    "import pandas as pd;\n",
    "import numpy as np;\n",
    "import matplotlib.pyplot as plt\n",
    "\n",
    "df = pd.read_csv(\"train.csv\")\n",
    "df.head()"
   ]
  },
  {
   "cell_type": "markdown",
   "id": "0fc28de4",
   "metadata": {},
   "source": [
    "### Feature Engineering"
   ]
  },
  {
   "cell_type": "markdown",
   "id": "8d850d7f",
   "metadata": {},
   "source": [
    "#### check if we need data or not (if there is some types of Ticket we should consider this column and it could affect our result)"
   ]
  },
  {
   "cell_type": "code",
   "execution_count": 2,
   "id": "9ad3437f",
   "metadata": {},
   "outputs": [
    {
     "data": {
      "text/plain": [
       "0            A/5 21171\n",
       "1             PC 17599\n",
       "2     STON/O2. 3101282\n",
       "3               113803\n",
       "4               373450\n",
       "5               330877\n",
       "6                17463\n",
       "7               349909\n",
       "8               347742\n",
       "9               237736\n",
       "10             PP 9549\n",
       "11              113783\n",
       "12           A/5. 2151\n",
       "13              347082\n",
       "14              350406\n",
       "15              248706\n",
       "16              382652\n",
       "17              244373\n",
       "18              345763\n",
       "19                2649\n",
       "Name: Ticket, dtype: object"
      ]
     },
     "execution_count": 2,
     "metadata": {},
     "output_type": "execute_result"
    }
   ],
   "source": [
    "df['Ticket'].head(20)"
   ]
  },
  {
   "cell_type": "markdown",
   "id": "6025cef5",
   "metadata": {},
   "source": [
    "#### remove columns that have no effect on the final result"
   ]
  },
  {
   "cell_type": "code",
   "execution_count": 3,
   "id": "bfa941be",
   "metadata": {},
   "outputs": [],
   "source": [
    "df.drop('Name',inplace = True,axis = 1)\n",
    "df.drop('Ticket',inplace = True,axis = 1)\n",
    "df.drop('PassengerId',inplace = True,axis = 1)"
   ]
  },
  {
   "cell_type": "markdown",
   "id": "55504417",
   "metadata": {},
   "source": [
    "#### check in which columns we have nan datas and if true , how many they are"
   ]
  },
  {
   "cell_type": "code",
   "execution_count": 4,
   "id": "66009a44",
   "metadata": {},
   "outputs": [
    {
     "data": {
      "text/plain": [
       "False"
      ]
     },
     "execution_count": 4,
     "metadata": {},
     "output_type": "execute_result"
    }
   ],
   "source": [
    "df['Survived'].isnull().values.any()"
   ]
  },
  {
   "cell_type": "code",
   "execution_count": 5,
   "id": "f38d145f",
   "metadata": {},
   "outputs": [
    {
     "data": {
      "text/plain": [
       "False"
      ]
     },
     "execution_count": 5,
     "metadata": {},
     "output_type": "execute_result"
    }
   ],
   "source": [
    "df['Pclass'].isnull().values.any()"
   ]
  },
  {
   "cell_type": "code",
   "execution_count": 6,
   "id": "d63d2b3f",
   "metadata": {},
   "outputs": [
    {
     "data": {
      "text/plain": [
       "True"
      ]
     },
     "execution_count": 6,
     "metadata": {},
     "output_type": "execute_result"
    }
   ],
   "source": [
    "df['Age'].isnull().values.any()"
   ]
  },
  {
   "cell_type": "markdown",
   "id": "75eda6c8",
   "metadata": {},
   "source": [
    "##### here we have 177 datas out of 891 without age,i use interpolate to fill them"
   ]
  },
  {
   "cell_type": "code",
   "execution_count": 7,
   "id": "03d2d0b7",
   "metadata": {},
   "outputs": [
    {
     "data": {
      "text/plain": [
       "177"
      ]
     },
     "execution_count": 7,
     "metadata": {},
     "output_type": "execute_result"
    }
   ],
   "source": [
    "df['Age'].isna().sum()"
   ]
  },
  {
   "cell_type": "code",
   "execution_count": 8,
   "id": "d5247303",
   "metadata": {},
   "outputs": [],
   "source": [
    "df['Age'] = df['Age'].interpolate()"
   ]
  },
  {
   "cell_type": "code",
   "execution_count": 9,
   "id": "cd255c34",
   "metadata": {},
   "outputs": [
    {
     "data": {
      "text/plain": [
       "False"
      ]
     },
     "execution_count": 9,
     "metadata": {},
     "output_type": "execute_result"
    }
   ],
   "source": [
    "df['SibSp'].isnull().values.any()"
   ]
  },
  {
   "cell_type": "code",
   "execution_count": 10,
   "id": "335925fe",
   "metadata": {},
   "outputs": [
    {
     "data": {
      "text/plain": [
       "False"
      ]
     },
     "execution_count": 10,
     "metadata": {},
     "output_type": "execute_result"
    }
   ],
   "source": [
    "df['Parch'].isnull().values.any()"
   ]
  },
  {
   "cell_type": "code",
   "execution_count": 11,
   "id": "5bab4456",
   "metadata": {},
   "outputs": [
    {
     "data": {
      "text/plain": [
       "False"
      ]
     },
     "execution_count": 11,
     "metadata": {},
     "output_type": "execute_result"
    }
   ],
   "source": [
    "df['Sex'].isnull().values.any()"
   ]
  },
  {
   "cell_type": "code",
   "execution_count": 12,
   "id": "aeaa4d91",
   "metadata": {},
   "outputs": [
    {
     "data": {
      "text/plain": [
       "False"
      ]
     },
     "execution_count": 12,
     "metadata": {},
     "output_type": "execute_result"
    }
   ],
   "source": [
    "df['Fare'].isnull().values.any()"
   ]
  },
  {
   "cell_type": "code",
   "execution_count": 13,
   "id": "2dea10fe",
   "metadata": {},
   "outputs": [
    {
     "data": {
      "text/plain": [
       "True"
      ]
     },
     "execution_count": 13,
     "metadata": {},
     "output_type": "execute_result"
    }
   ],
   "source": [
    "df['Cabin'].isnull().values.any()"
   ]
  },
  {
   "cell_type": "markdown",
   "id": "6bf36f1d",
   "metadata": {},
   "source": [
    "##### most of cabin values are missing so we should drop this column too"
   ]
  },
  {
   "cell_type": "code",
   "execution_count": 14,
   "id": "ea313f52",
   "metadata": {},
   "outputs": [
    {
     "data": {
      "text/plain": [
       "687"
      ]
     },
     "execution_count": 14,
     "metadata": {},
     "output_type": "execute_result"
    }
   ],
   "source": [
    "df['Cabin'].isna().sum()"
   ]
  },
  {
   "cell_type": "code",
   "execution_count": 15,
   "id": "b91d9ef8",
   "metadata": {},
   "outputs": [],
   "source": [
    "df.drop('Cabin',inplace = True,axis = 1)"
   ]
  },
  {
   "cell_type": "markdown",
   "id": "20e8a573",
   "metadata": {},
   "source": [
    "##### change sexes values to 1 as male and 0 as female"
   ]
  },
  {
   "cell_type": "code",
   "execution_count": 16,
   "id": "1312bc62",
   "metadata": {},
   "outputs": [],
   "source": [
    "df['Sex'] = df['Sex'].replace({\"male\": 1, \"female\": 0})"
   ]
  },
  {
   "cell_type": "code",
   "execution_count": 17,
   "id": "75add62a",
   "metadata": {},
   "outputs": [
    {
     "data": {
      "text/plain": [
       "True"
      ]
     },
     "execution_count": 17,
     "metadata": {},
     "output_type": "execute_result"
    }
   ],
   "source": [
    "df['Embarked'].isnull().values.any()"
   ]
  },
  {
   "cell_type": "markdown",
   "id": "7376274c",
   "metadata": {},
   "source": [
    "##### number of missing values in Embarked column is 2 so i used one-hotting (change categorical data to numeric)"
   ]
  },
  {
   "cell_type": "code",
   "execution_count": 18,
   "id": "aa41ecc6",
   "metadata": {},
   "outputs": [
    {
     "data": {
      "text/plain": [
       "2"
      ]
     },
     "execution_count": 18,
     "metadata": {},
     "output_type": "execute_result"
    }
   ],
   "source": [
    "df['Embarked'].isna().sum()"
   ]
  },
  {
   "cell_type": "code",
   "execution_count": 19,
   "id": "85083048",
   "metadata": {},
   "outputs": [],
   "source": [
    "df = pd.get_dummies(df)"
   ]
  },
  {
   "cell_type": "markdown",
   "id": "c6086002",
   "metadata": {},
   "source": [
    "##### fare range is from 0 to almost 513 so we can't normalize it."
   ]
  },
  {
   "cell_type": "code",
   "execution_count": 20,
   "id": "3a0d98d6",
   "metadata": {},
   "outputs": [
    {
     "data": {
      "text/plain": [
       "count    891.000000\n",
       "mean      32.204208\n",
       "std       49.693429\n",
       "min        0.000000\n",
       "25%        7.910400\n",
       "50%       14.454200\n",
       "75%       31.000000\n",
       "max      512.329200\n",
       "Name: Fare, dtype: float64"
      ]
     },
     "execution_count": 20,
     "metadata": {},
     "output_type": "execute_result"
    }
   ],
   "source": [
    "df['Fare'].describe()"
   ]
  },
  {
   "cell_type": "code",
   "execution_count": 21,
   "id": "506898bb",
   "metadata": {},
   "outputs": [
    {
     "data": {
      "text/html": [
       "<div>\n",
       "<style scoped>\n",
       "    .dataframe tbody tr th:only-of-type {\n",
       "        vertical-align: middle;\n",
       "    }\n",
       "\n",
       "    .dataframe tbody tr th {\n",
       "        vertical-align: top;\n",
       "    }\n",
       "\n",
       "    .dataframe thead th {\n",
       "        text-align: right;\n",
       "    }\n",
       "</style>\n",
       "<table border=\"1\" class=\"dataframe\">\n",
       "  <thead>\n",
       "    <tr style=\"text-align: right;\">\n",
       "      <th></th>\n",
       "      <th>Survived</th>\n",
       "      <th>Pclass</th>\n",
       "      <th>Sex</th>\n",
       "      <th>Age</th>\n",
       "      <th>SibSp</th>\n",
       "      <th>Parch</th>\n",
       "      <th>Fare</th>\n",
       "      <th>Embarked_C</th>\n",
       "      <th>Embarked_Q</th>\n",
       "      <th>Embarked_S</th>\n",
       "    </tr>\n",
       "  </thead>\n",
       "  <tbody>\n",
       "    <tr>\n",
       "      <th>0</th>\n",
       "      <td>0</td>\n",
       "      <td>3</td>\n",
       "      <td>1</td>\n",
       "      <td>22.0</td>\n",
       "      <td>1</td>\n",
       "      <td>0</td>\n",
       "      <td>7.2500</td>\n",
       "      <td>0</td>\n",
       "      <td>0</td>\n",
       "      <td>1</td>\n",
       "    </tr>\n",
       "    <tr>\n",
       "      <th>1</th>\n",
       "      <td>1</td>\n",
       "      <td>1</td>\n",
       "      <td>0</td>\n",
       "      <td>38.0</td>\n",
       "      <td>1</td>\n",
       "      <td>0</td>\n",
       "      <td>71.2833</td>\n",
       "      <td>1</td>\n",
       "      <td>0</td>\n",
       "      <td>0</td>\n",
       "    </tr>\n",
       "    <tr>\n",
       "      <th>2</th>\n",
       "      <td>1</td>\n",
       "      <td>3</td>\n",
       "      <td>0</td>\n",
       "      <td>26.0</td>\n",
       "      <td>0</td>\n",
       "      <td>0</td>\n",
       "      <td>7.9250</td>\n",
       "      <td>0</td>\n",
       "      <td>0</td>\n",
       "      <td>1</td>\n",
       "    </tr>\n",
       "    <tr>\n",
       "      <th>3</th>\n",
       "      <td>1</td>\n",
       "      <td>1</td>\n",
       "      <td>0</td>\n",
       "      <td>35.0</td>\n",
       "      <td>1</td>\n",
       "      <td>0</td>\n",
       "      <td>53.1000</td>\n",
       "      <td>0</td>\n",
       "      <td>0</td>\n",
       "      <td>1</td>\n",
       "    </tr>\n",
       "    <tr>\n",
       "      <th>4</th>\n",
       "      <td>0</td>\n",
       "      <td>3</td>\n",
       "      <td>1</td>\n",
       "      <td>35.0</td>\n",
       "      <td>0</td>\n",
       "      <td>0</td>\n",
       "      <td>8.0500</td>\n",
       "      <td>0</td>\n",
       "      <td>0</td>\n",
       "      <td>1</td>\n",
       "    </tr>\n",
       "    <tr>\n",
       "      <th>...</th>\n",
       "      <td>...</td>\n",
       "      <td>...</td>\n",
       "      <td>...</td>\n",
       "      <td>...</td>\n",
       "      <td>...</td>\n",
       "      <td>...</td>\n",
       "      <td>...</td>\n",
       "      <td>...</td>\n",
       "      <td>...</td>\n",
       "      <td>...</td>\n",
       "    </tr>\n",
       "    <tr>\n",
       "      <th>886</th>\n",
       "      <td>0</td>\n",
       "      <td>2</td>\n",
       "      <td>1</td>\n",
       "      <td>27.0</td>\n",
       "      <td>0</td>\n",
       "      <td>0</td>\n",
       "      <td>13.0000</td>\n",
       "      <td>0</td>\n",
       "      <td>0</td>\n",
       "      <td>1</td>\n",
       "    </tr>\n",
       "    <tr>\n",
       "      <th>887</th>\n",
       "      <td>1</td>\n",
       "      <td>1</td>\n",
       "      <td>0</td>\n",
       "      <td>19.0</td>\n",
       "      <td>0</td>\n",
       "      <td>0</td>\n",
       "      <td>30.0000</td>\n",
       "      <td>0</td>\n",
       "      <td>0</td>\n",
       "      <td>1</td>\n",
       "    </tr>\n",
       "    <tr>\n",
       "      <th>888</th>\n",
       "      <td>0</td>\n",
       "      <td>3</td>\n",
       "      <td>0</td>\n",
       "      <td>22.5</td>\n",
       "      <td>1</td>\n",
       "      <td>2</td>\n",
       "      <td>23.4500</td>\n",
       "      <td>0</td>\n",
       "      <td>0</td>\n",
       "      <td>1</td>\n",
       "    </tr>\n",
       "    <tr>\n",
       "      <th>889</th>\n",
       "      <td>1</td>\n",
       "      <td>1</td>\n",
       "      <td>1</td>\n",
       "      <td>26.0</td>\n",
       "      <td>0</td>\n",
       "      <td>0</td>\n",
       "      <td>30.0000</td>\n",
       "      <td>1</td>\n",
       "      <td>0</td>\n",
       "      <td>0</td>\n",
       "    </tr>\n",
       "    <tr>\n",
       "      <th>890</th>\n",
       "      <td>0</td>\n",
       "      <td>3</td>\n",
       "      <td>1</td>\n",
       "      <td>32.0</td>\n",
       "      <td>0</td>\n",
       "      <td>0</td>\n",
       "      <td>7.7500</td>\n",
       "      <td>0</td>\n",
       "      <td>1</td>\n",
       "      <td>0</td>\n",
       "    </tr>\n",
       "  </tbody>\n",
       "</table>\n",
       "<p>891 rows × 10 columns</p>\n",
       "</div>"
      ],
      "text/plain": [
       "     Survived  Pclass  Sex   Age  SibSp  Parch     Fare  Embarked_C  \\\n",
       "0           0       3    1  22.0      1      0   7.2500           0   \n",
       "1           1       1    0  38.0      1      0  71.2833           1   \n",
       "2           1       3    0  26.0      0      0   7.9250           0   \n",
       "3           1       1    0  35.0      1      0  53.1000           0   \n",
       "4           0       3    1  35.0      0      0   8.0500           0   \n",
       "..        ...     ...  ...   ...    ...    ...      ...         ...   \n",
       "886         0       2    1  27.0      0      0  13.0000           0   \n",
       "887         1       1    0  19.0      0      0  30.0000           0   \n",
       "888         0       3    0  22.5      1      2  23.4500           0   \n",
       "889         1       1    1  26.0      0      0  30.0000           1   \n",
       "890         0       3    1  32.0      0      0   7.7500           0   \n",
       "\n",
       "     Embarked_Q  Embarked_S  \n",
       "0             0           1  \n",
       "1             0           0  \n",
       "2             0           1  \n",
       "3             0           1  \n",
       "4             0           1  \n",
       "..          ...         ...  \n",
       "886           0           1  \n",
       "887           0           1  \n",
       "888           0           1  \n",
       "889           0           0  \n",
       "890           1           0  \n",
       "\n",
       "[891 rows x 10 columns]"
      ]
     },
     "execution_count": 21,
     "metadata": {},
     "output_type": "execute_result"
    }
   ],
   "source": [
    "df"
   ]
  },
  {
   "cell_type": "markdown",
   "id": "d87d90de",
   "metadata": {},
   "source": [
    "#### initialize target and features data and split our train data to train and valid"
   ]
  },
  {
   "cell_type": "code",
   "execution_count": 22,
   "id": "aa616fef",
   "metadata": {},
   "outputs": [],
   "source": [
    "X = np.array(df[['Pclass','Sex','Age','SibSp','Parch','Fare','Embarked_C','Embarked_Q','Embarked_S']])\n",
    "y = np.array(df['Survived'])"
   ]
  },
  {
   "cell_type": "code",
   "execution_count": 23,
   "id": "efd68a0d",
   "metadata": {},
   "outputs": [],
   "source": [
    "from sklearn.model_selection import train_test_split\n",
    "X_train, X_valid, y_train, y_valid = train_test_split(X, y, test_size = 0.20)"
   ]
  },
  {
   "cell_type": "markdown",
   "id": "3f4930d2",
   "metadata": {},
   "source": [
    "#### read test data and see its format"
   ]
  },
  {
   "cell_type": "code",
   "execution_count": 24,
   "id": "d5ca39f7",
   "metadata": {},
   "outputs": [
    {
     "data": {
      "text/html": [
       "<div>\n",
       "<style scoped>\n",
       "    .dataframe tbody tr th:only-of-type {\n",
       "        vertical-align: middle;\n",
       "    }\n",
       "\n",
       "    .dataframe tbody tr th {\n",
       "        vertical-align: top;\n",
       "    }\n",
       "\n",
       "    .dataframe thead th {\n",
       "        text-align: right;\n",
       "    }\n",
       "</style>\n",
       "<table border=\"1\" class=\"dataframe\">\n",
       "  <thead>\n",
       "    <tr style=\"text-align: right;\">\n",
       "      <th></th>\n",
       "      <th>PassengerId</th>\n",
       "      <th>Pclass</th>\n",
       "      <th>Name</th>\n",
       "      <th>Sex</th>\n",
       "      <th>Age</th>\n",
       "      <th>SibSp</th>\n",
       "      <th>Parch</th>\n",
       "      <th>Ticket</th>\n",
       "      <th>Fare</th>\n",
       "      <th>Cabin</th>\n",
       "      <th>Embarked</th>\n",
       "    </tr>\n",
       "  </thead>\n",
       "  <tbody>\n",
       "    <tr>\n",
       "      <th>0</th>\n",
       "      <td>892</td>\n",
       "      <td>3</td>\n",
       "      <td>Kelly, Mr. James</td>\n",
       "      <td>male</td>\n",
       "      <td>34.5</td>\n",
       "      <td>0</td>\n",
       "      <td>0</td>\n",
       "      <td>330911</td>\n",
       "      <td>7.8292</td>\n",
       "      <td>NaN</td>\n",
       "      <td>Q</td>\n",
       "    </tr>\n",
       "    <tr>\n",
       "      <th>1</th>\n",
       "      <td>893</td>\n",
       "      <td>3</td>\n",
       "      <td>Wilkes, Mrs. James (Ellen Needs)</td>\n",
       "      <td>female</td>\n",
       "      <td>47.0</td>\n",
       "      <td>1</td>\n",
       "      <td>0</td>\n",
       "      <td>363272</td>\n",
       "      <td>7.0000</td>\n",
       "      <td>NaN</td>\n",
       "      <td>S</td>\n",
       "    </tr>\n",
       "    <tr>\n",
       "      <th>2</th>\n",
       "      <td>894</td>\n",
       "      <td>2</td>\n",
       "      <td>Myles, Mr. Thomas Francis</td>\n",
       "      <td>male</td>\n",
       "      <td>62.0</td>\n",
       "      <td>0</td>\n",
       "      <td>0</td>\n",
       "      <td>240276</td>\n",
       "      <td>9.6875</td>\n",
       "      <td>NaN</td>\n",
       "      <td>Q</td>\n",
       "    </tr>\n",
       "    <tr>\n",
       "      <th>3</th>\n",
       "      <td>895</td>\n",
       "      <td>3</td>\n",
       "      <td>Wirz, Mr. Albert</td>\n",
       "      <td>male</td>\n",
       "      <td>27.0</td>\n",
       "      <td>0</td>\n",
       "      <td>0</td>\n",
       "      <td>315154</td>\n",
       "      <td>8.6625</td>\n",
       "      <td>NaN</td>\n",
       "      <td>S</td>\n",
       "    </tr>\n",
       "    <tr>\n",
       "      <th>4</th>\n",
       "      <td>896</td>\n",
       "      <td>3</td>\n",
       "      <td>Hirvonen, Mrs. Alexander (Helga E Lindqvist)</td>\n",
       "      <td>female</td>\n",
       "      <td>22.0</td>\n",
       "      <td>1</td>\n",
       "      <td>1</td>\n",
       "      <td>3101298</td>\n",
       "      <td>12.2875</td>\n",
       "      <td>NaN</td>\n",
       "      <td>S</td>\n",
       "    </tr>\n",
       "  </tbody>\n",
       "</table>\n",
       "</div>"
      ],
      "text/plain": [
       "   PassengerId  Pclass                                          Name     Sex  \\\n",
       "0          892       3                              Kelly, Mr. James    male   \n",
       "1          893       3              Wilkes, Mrs. James (Ellen Needs)  female   \n",
       "2          894       2                     Myles, Mr. Thomas Francis    male   \n",
       "3          895       3                              Wirz, Mr. Albert    male   \n",
       "4          896       3  Hirvonen, Mrs. Alexander (Helga E Lindqvist)  female   \n",
       "\n",
       "    Age  SibSp  Parch   Ticket     Fare Cabin Embarked  \n",
       "0  34.5      0      0   330911   7.8292   NaN        Q  \n",
       "1  47.0      1      0   363272   7.0000   NaN        S  \n",
       "2  62.0      0      0   240276   9.6875   NaN        Q  \n",
       "3  27.0      0      0   315154   8.6625   NaN        S  \n",
       "4  22.0      1      1  3101298  12.2875   NaN        S  "
      ]
     },
     "execution_count": 24,
     "metadata": {},
     "output_type": "execute_result"
    }
   ],
   "source": [
    "dftest = pd.read_csv(\"test.csv\")\n",
    "dftest.head()"
   ]
  },
  {
   "cell_type": "markdown",
   "id": "931c04ba",
   "metadata": {},
   "source": [
    "#### like before we should clean it"
   ]
  },
  {
   "cell_type": "code",
   "execution_count": 25,
   "id": "c01b10cb",
   "metadata": {},
   "outputs": [],
   "source": [
    "dftest.drop('Name',inplace = True,axis = 1)\n",
    "dftest.drop('Ticket',inplace = True,axis = 1)\n",
    "dftest.drop('PassengerId',inplace = True,axis = 1)\n",
    "dftest.drop('Cabin',inplace = True,axis = 1)"
   ]
  },
  {
   "cell_type": "code",
   "execution_count": 26,
   "id": "adb53a4d",
   "metadata": {},
   "outputs": [
    {
     "data": {
      "text/plain": [
       "False"
      ]
     },
     "execution_count": 26,
     "metadata": {},
     "output_type": "execute_result"
    }
   ],
   "source": [
    "dftest['Pclass'].isnull().values.any()"
   ]
  },
  {
   "cell_type": "code",
   "execution_count": 27,
   "id": "182773ee",
   "metadata": {},
   "outputs": [
    {
     "data": {
      "text/plain": [
       "True"
      ]
     },
     "execution_count": 27,
     "metadata": {},
     "output_type": "execute_result"
    }
   ],
   "source": [
    "dftest['Age'].isnull().values.any()"
   ]
  },
  {
   "cell_type": "code",
   "execution_count": 28,
   "id": "7e008bc5",
   "metadata": {},
   "outputs": [],
   "source": [
    "dftest['Age'] = dftest['Age'].interpolate()"
   ]
  },
  {
   "cell_type": "code",
   "execution_count": 29,
   "id": "b1ff35b8",
   "metadata": {},
   "outputs": [
    {
     "data": {
      "text/plain": [
       "False"
      ]
     },
     "execution_count": 29,
     "metadata": {},
     "output_type": "execute_result"
    }
   ],
   "source": [
    "dftest['Pclass'].isnull().values.any()"
   ]
  },
  {
   "cell_type": "code",
   "execution_count": 30,
   "id": "45684355",
   "metadata": {},
   "outputs": [
    {
     "data": {
      "text/plain": [
       "False"
      ]
     },
     "execution_count": 30,
     "metadata": {},
     "output_type": "execute_result"
    }
   ],
   "source": [
    "dftest['Sex'].isnull().values.any()"
   ]
  },
  {
   "cell_type": "code",
   "execution_count": 31,
   "id": "ca7635d6",
   "metadata": {},
   "outputs": [
    {
     "data": {
      "text/plain": [
       "False"
      ]
     },
     "execution_count": 31,
     "metadata": {},
     "output_type": "execute_result"
    }
   ],
   "source": [
    "dftest['SibSp'].isnull().values.any()"
   ]
  },
  {
   "cell_type": "code",
   "execution_count": 32,
   "id": "ff5e061f",
   "metadata": {},
   "outputs": [
    {
     "data": {
      "text/plain": [
       "False"
      ]
     },
     "execution_count": 32,
     "metadata": {},
     "output_type": "execute_result"
    }
   ],
   "source": [
    "dftest['Parch'].isnull().values.any()"
   ]
  },
  {
   "cell_type": "code",
   "execution_count": 33,
   "id": "78442f05",
   "metadata": {},
   "outputs": [
    {
     "data": {
      "text/plain": [
       "True"
      ]
     },
     "execution_count": 33,
     "metadata": {},
     "output_type": "execute_result"
    }
   ],
   "source": [
    "dftest['Fare'].isnull().values.any()"
   ]
  },
  {
   "cell_type": "code",
   "execution_count": 34,
   "id": "45d997fe",
   "metadata": {},
   "outputs": [],
   "source": [
    "avg = dftest['Fare'].mean()\n",
    "dftest['Fare'] = dftest['Fare'].fillna(avg)"
   ]
  },
  {
   "cell_type": "code",
   "execution_count": 35,
   "id": "a3338541",
   "metadata": {},
   "outputs": [
    {
     "data": {
      "text/plain": [
       "False"
      ]
     },
     "execution_count": 35,
     "metadata": {},
     "output_type": "execute_result"
    }
   ],
   "source": [
    "dftest['Embarked'].isnull().values.any()"
   ]
  },
  {
   "cell_type": "code",
   "execution_count": 36,
   "id": "6fef7d93",
   "metadata": {},
   "outputs": [],
   "source": [
    "dftest['Sex'] = dftest['Sex'].replace({\"male\": 1, \"female\": 0})"
   ]
  },
  {
   "cell_type": "code",
   "execution_count": 37,
   "id": "2abadcfa",
   "metadata": {},
   "outputs": [
    {
     "data": {
      "text/html": [
       "<div>\n",
       "<style scoped>\n",
       "    .dataframe tbody tr th:only-of-type {\n",
       "        vertical-align: middle;\n",
       "    }\n",
       "\n",
       "    .dataframe tbody tr th {\n",
       "        vertical-align: top;\n",
       "    }\n",
       "\n",
       "    .dataframe thead th {\n",
       "        text-align: right;\n",
       "    }\n",
       "</style>\n",
       "<table border=\"1\" class=\"dataframe\">\n",
       "  <thead>\n",
       "    <tr style=\"text-align: right;\">\n",
       "      <th></th>\n",
       "      <th>Pclass</th>\n",
       "      <th>Sex</th>\n",
       "      <th>Age</th>\n",
       "      <th>SibSp</th>\n",
       "      <th>Parch</th>\n",
       "      <th>Fare</th>\n",
       "      <th>Embarked_C</th>\n",
       "      <th>Embarked_Q</th>\n",
       "      <th>Embarked_S</th>\n",
       "    </tr>\n",
       "  </thead>\n",
       "  <tbody>\n",
       "    <tr>\n",
       "      <th>0</th>\n",
       "      <td>3</td>\n",
       "      <td>1</td>\n",
       "      <td>34.5</td>\n",
       "      <td>0</td>\n",
       "      <td>0</td>\n",
       "      <td>7.8292</td>\n",
       "      <td>0</td>\n",
       "      <td>1</td>\n",
       "      <td>0</td>\n",
       "    </tr>\n",
       "    <tr>\n",
       "      <th>1</th>\n",
       "      <td>3</td>\n",
       "      <td>0</td>\n",
       "      <td>47.0</td>\n",
       "      <td>1</td>\n",
       "      <td>0</td>\n",
       "      <td>7.0000</td>\n",
       "      <td>0</td>\n",
       "      <td>0</td>\n",
       "      <td>1</td>\n",
       "    </tr>\n",
       "    <tr>\n",
       "      <th>2</th>\n",
       "      <td>2</td>\n",
       "      <td>1</td>\n",
       "      <td>62.0</td>\n",
       "      <td>0</td>\n",
       "      <td>0</td>\n",
       "      <td>9.6875</td>\n",
       "      <td>0</td>\n",
       "      <td>1</td>\n",
       "      <td>0</td>\n",
       "    </tr>\n",
       "    <tr>\n",
       "      <th>3</th>\n",
       "      <td>3</td>\n",
       "      <td>1</td>\n",
       "      <td>27.0</td>\n",
       "      <td>0</td>\n",
       "      <td>0</td>\n",
       "      <td>8.6625</td>\n",
       "      <td>0</td>\n",
       "      <td>0</td>\n",
       "      <td>1</td>\n",
       "    </tr>\n",
       "    <tr>\n",
       "      <th>4</th>\n",
       "      <td>3</td>\n",
       "      <td>0</td>\n",
       "      <td>22.0</td>\n",
       "      <td>1</td>\n",
       "      <td>1</td>\n",
       "      <td>12.2875</td>\n",
       "      <td>0</td>\n",
       "      <td>0</td>\n",
       "      <td>1</td>\n",
       "    </tr>\n",
       "    <tr>\n",
       "      <th>...</th>\n",
       "      <td>...</td>\n",
       "      <td>...</td>\n",
       "      <td>...</td>\n",
       "      <td>...</td>\n",
       "      <td>...</td>\n",
       "      <td>...</td>\n",
       "      <td>...</td>\n",
       "      <td>...</td>\n",
       "      <td>...</td>\n",
       "    </tr>\n",
       "    <tr>\n",
       "      <th>413</th>\n",
       "      <td>3</td>\n",
       "      <td>1</td>\n",
       "      <td>33.5</td>\n",
       "      <td>0</td>\n",
       "      <td>0</td>\n",
       "      <td>8.0500</td>\n",
       "      <td>0</td>\n",
       "      <td>0</td>\n",
       "      <td>1</td>\n",
       "    </tr>\n",
       "    <tr>\n",
       "      <th>414</th>\n",
       "      <td>1</td>\n",
       "      <td>0</td>\n",
       "      <td>39.0</td>\n",
       "      <td>0</td>\n",
       "      <td>0</td>\n",
       "      <td>108.9000</td>\n",
       "      <td>1</td>\n",
       "      <td>0</td>\n",
       "      <td>0</td>\n",
       "    </tr>\n",
       "    <tr>\n",
       "      <th>415</th>\n",
       "      <td>3</td>\n",
       "      <td>1</td>\n",
       "      <td>38.5</td>\n",
       "      <td>0</td>\n",
       "      <td>0</td>\n",
       "      <td>7.2500</td>\n",
       "      <td>0</td>\n",
       "      <td>0</td>\n",
       "      <td>1</td>\n",
       "    </tr>\n",
       "    <tr>\n",
       "      <th>416</th>\n",
       "      <td>3</td>\n",
       "      <td>1</td>\n",
       "      <td>38.5</td>\n",
       "      <td>0</td>\n",
       "      <td>0</td>\n",
       "      <td>8.0500</td>\n",
       "      <td>0</td>\n",
       "      <td>0</td>\n",
       "      <td>1</td>\n",
       "    </tr>\n",
       "    <tr>\n",
       "      <th>417</th>\n",
       "      <td>3</td>\n",
       "      <td>1</td>\n",
       "      <td>38.5</td>\n",
       "      <td>1</td>\n",
       "      <td>1</td>\n",
       "      <td>22.3583</td>\n",
       "      <td>1</td>\n",
       "      <td>0</td>\n",
       "      <td>0</td>\n",
       "    </tr>\n",
       "  </tbody>\n",
       "</table>\n",
       "<p>418 rows × 9 columns</p>\n",
       "</div>"
      ],
      "text/plain": [
       "     Pclass  Sex   Age  SibSp  Parch      Fare  Embarked_C  Embarked_Q  \\\n",
       "0         3    1  34.5      0      0    7.8292           0           1   \n",
       "1         3    0  47.0      1      0    7.0000           0           0   \n",
       "2         2    1  62.0      0      0    9.6875           0           1   \n",
       "3         3    1  27.0      0      0    8.6625           0           0   \n",
       "4         3    0  22.0      1      1   12.2875           0           0   \n",
       "..      ...  ...   ...    ...    ...       ...         ...         ...   \n",
       "413       3    1  33.5      0      0    8.0500           0           0   \n",
       "414       1    0  39.0      0      0  108.9000           1           0   \n",
       "415       3    1  38.5      0      0    7.2500           0           0   \n",
       "416       3    1  38.5      0      0    8.0500           0           0   \n",
       "417       3    1  38.5      1      1   22.3583           1           0   \n",
       "\n",
       "     Embarked_S  \n",
       "0             0  \n",
       "1             1  \n",
       "2             0  \n",
       "3             1  \n",
       "4             1  \n",
       "..          ...  \n",
       "413           1  \n",
       "414           0  \n",
       "415           1  \n",
       "416           1  \n",
       "417           0  \n",
       "\n",
       "[418 rows x 9 columns]"
      ]
     },
     "execution_count": 37,
     "metadata": {},
     "output_type": "execute_result"
    }
   ],
   "source": [
    "dftest = pd.get_dummies(dftest)\n",
    "dftest"
   ]
  },
  {
   "cell_type": "markdown",
   "id": "ce4a103d",
   "metadata": {},
   "source": [
    "### KNN"
   ]
  },
  {
   "cell_type": "markdown",
   "id": "8d948739",
   "metadata": {},
   "source": [
    "#### make an array with size of train data to use in dist matrix to get the indexes of train data"
   ]
  },
  {
   "cell_type": "code",
   "execution_count": 38,
   "id": "bd5b860f",
   "metadata": {},
   "outputs": [],
   "source": [
    "x = list(range(0,712))\n",
    "x = np.array(x)"
   ]
  },
  {
   "cell_type": "markdown",
   "id": "c38b3697",
   "metadata": {},
   "source": [
    "#### define dist function to compute Euclidean distant"
   ]
  },
  {
   "cell_type": "code",
   "execution_count": 39,
   "id": "a271cdc8",
   "metadata": {},
   "outputs": [],
   "source": [
    "import math\n",
    "def dist(x,y,length):\n",
    "    d = 0\n",
    "    for i in range(length):\n",
    "        d += pow(x[i]-y[i],2)\n",
    "    return math.sqrt(d)\n",
    "    "
   ]
  },
  {
   "cell_type": "markdown",
   "id": "fa13334a",
   "metadata": {},
   "source": [
    "#### define knn function: first make an empty array of size 712 to store distance of each training data and test data.\n",
    "#### then pass x array as col_train that we made before as indexes .then in a for loop we compute the distance and append it to the col_dist\n",
    "#### then append col_dist to alldist matrix as distances"
   ]
  },
  {
   "cell_type": "code",
   "execution_count": 40,
   "id": "d72c191c",
   "metadata": {},
   "outputs": [],
   "source": [
    "def knn(X_train,point,k):\n",
    "    alldist = np.empty((712, 0), float)\n",
    "    col_train = x\n",
    "    alldist = np.append(alldist, np.array([x]).transpose(), axis=1)\n",
    "    col_dist = []\n",
    "    for i in range(len(X_train)):\n",
    "        col_dist.append(dist(X_train[i],point,len(X_train[i])))\n",
    "        \n",
    "    alldist = np.append(alldist, np.array([col_dist]).transpose(), axis=1)\n",
    "    return alldist"
   ]
  },
  {
   "cell_type": "markdown",
   "id": "d1e59d62",
   "metadata": {},
   "source": [
    "#### define X_test with wanted series"
   ]
  },
  {
   "cell_type": "code",
   "execution_count": 41,
   "id": "ef770a85",
   "metadata": {},
   "outputs": [
    {
     "name": "stdout",
     "output_type": "stream",
     "text": [
      "418\n",
      "712\n"
     ]
    }
   ],
   "source": [
    "X_test = np.array(dftest[['Pclass','Sex','Age','SibSp','Parch','Fare','Embarked_C','Embarked_Q','Embarked_S']])\n",
    "print(len(X_test))\n",
    "print(len(X_train))"
   ]
  },
  {
   "cell_type": "markdown",
   "id": "b19a3e41",
   "metadata": {},
   "source": [
    "#### now we want to validate our model,we should use knn function to compute the distances for each X_valid and get the distance matrix.\n",
    "#### then we should sort our matrix to see the minimum distances (nearest neighbours) at top.\n",
    "#### then for a wanted k (that it should be odd) we'll find the maximum count answer(that it's y_train for corresponding X_train)\n",
    "#### we should use method np.bincount to get that(for example: if we have 1 1 0 1 0 as y_train for nearest neighbours then answer is 1 cuz of the most frequent item is 1!)"
   ]
  },
  {
   "cell_type": "code",
   "execution_count": 42,
   "id": "a958f941",
   "metadata": {},
   "outputs": [
    {
     "name": "stdout",
     "output_type": "stream",
     "text": [
      "validpred  0  real_val:  1  , predicted_val:  1\n",
      "validpred  1  real_val:  1  , predicted_val:  0\n",
      "validpred  2  real_val:  0  , predicted_val:  0\n",
      "validpred  3  real_val:  1  , predicted_val:  0\n",
      "validpred  4  real_val:  0  , predicted_val:  0\n",
      "validpred  5  real_val:  0  , predicted_val:  0\n",
      "validpred  6  real_val:  0  , predicted_val:  0\n",
      "validpred  7  real_val:  0  , predicted_val:  0\n",
      "validpred  8  real_val:  1  , predicted_val:  0\n",
      "validpred  9  real_val:  1  , predicted_val:  0\n",
      "validpred  10  real_val:  1  , predicted_val:  0\n",
      "validpred  11  real_val:  1  , predicted_val:  1\n",
      "validpred  12  real_val:  0  , predicted_val:  0\n",
      "validpred  13  real_val:  0  , predicted_val:  0\n",
      "validpred  14  real_val:  1  , predicted_val:  1\n",
      "validpred  15  real_val:  0  , predicted_val:  0\n",
      "validpred  16  real_val:  0  , predicted_val:  0\n",
      "validpred  17  real_val:  0  , predicted_val:  0\n",
      "validpred  18  real_val:  1  , predicted_val:  1\n",
      "validpred  19  real_val:  1  , predicted_val:  0\n",
      "validpred  20  real_val:  1  , predicted_val:  0\n",
      "validpred  21  real_val:  0  , predicted_val:  0\n",
      "validpred  22  real_val:  0  , predicted_val:  1\n",
      "validpred  23  real_val:  1  , predicted_val:  0\n",
      "validpred  24  real_val:  0  , predicted_val:  0\n",
      "validpred  25  real_val:  0  , predicted_val:  0\n",
      "validpred  26  real_val:  0  , predicted_val:  1\n",
      "validpred  27  real_val:  1  , predicted_val:  0\n",
      "validpred  28  real_val:  1  , predicted_val:  0\n",
      "validpred  29  real_val:  0  , predicted_val:  0\n",
      "validpred  30  real_val:  0  , predicted_val:  0\n",
      "validpred  31  real_val:  0  , predicted_val:  0\n",
      "validpred  32  real_val:  0  , predicted_val:  0\n",
      "validpred  33  real_val:  0  , predicted_val:  0\n",
      "validpred  34  real_val:  0  , predicted_val:  1\n",
      "validpred  35  real_val:  0  , predicted_val:  0\n",
      "validpred  36  real_val:  0  , predicted_val:  1\n",
      "validpred  37  real_val:  0  , predicted_val:  0\n",
      "validpred  38  real_val:  0  , predicted_val:  0\n",
      "validpred  39  real_val:  1  , predicted_val:  1\n",
      "validpred  40  real_val:  0  , predicted_val:  0\n",
      "validpred  41  real_val:  1  , predicted_val:  1\n",
      "validpred  42  real_val:  1  , predicted_val:  0\n",
      "validpred  43  real_val:  1  , predicted_val:  0\n",
      "validpred  44  real_val:  1  , predicted_val:  1\n",
      "validpred  45  real_val:  0  , predicted_val:  0\n",
      "validpred  46  real_val:  0  , predicted_val:  0\n",
      "validpred  47  real_val:  0  , predicted_val:  1\n",
      "validpred  48  real_val:  0  , predicted_val:  1\n",
      "validpred  49  real_val:  0  , predicted_val:  0\n",
      "validpred  50  real_val:  0  , predicted_val:  0\n",
      "validpred  51  real_val:  0  , predicted_val:  1\n",
      "validpred  52  real_val:  0  , predicted_val:  1\n",
      "validpred  53  real_val:  0  , predicted_val:  0\n",
      "validpred  54  real_val:  0  , predicted_val:  0\n",
      "validpred  55  real_val:  1  , predicted_val:  0\n",
      "validpred  56  real_val:  0  , predicted_val:  1\n",
      "validpred  57  real_val:  1  , predicted_val:  1\n",
      "validpred  58  real_val:  1  , predicted_val:  0\n",
      "validpred  59  real_val:  0  , predicted_val:  0\n",
      "validpred  60  real_val:  1  , predicted_val:  1\n",
      "validpred  61  real_val:  0  , predicted_val:  0\n",
      "validpred  62  real_val:  0  , predicted_val:  0\n",
      "validpred  63  real_val:  0  , predicted_val:  1\n",
      "validpred  64  real_val:  0  , predicted_val:  1\n",
      "validpred  65  real_val:  0  , predicted_val:  0\n",
      "validpred  66  real_val:  1  , predicted_val:  1\n",
      "validpred  67  real_val:  0  , predicted_val:  0\n",
      "validpred  68  real_val:  1  , predicted_val:  1\n",
      "validpred  69  real_val:  0  , predicted_val:  0\n",
      "validpred  70  real_val:  0  , predicted_val:  0\n",
      "validpred  71  real_val:  1  , predicted_val:  0\n",
      "validpred  72  real_val:  1  , predicted_val:  0\n",
      "validpred  73  real_val:  1  , predicted_val:  0\n",
      "validpred  74  real_val:  0  , predicted_val:  0\n",
      "validpred  75  real_val:  0  , predicted_val:  1\n",
      "validpred  76  real_val:  0  , predicted_val:  1\n",
      "validpred  77  real_val:  1  , predicted_val:  0\n",
      "validpred  78  real_val:  0  , predicted_val:  0\n",
      "validpred  79  real_val:  0  , predicted_val:  0\n",
      "validpred  80  real_val:  1  , predicted_val:  0\n",
      "validpred  81  real_val:  1  , predicted_val:  0\n",
      "validpred  82  real_val:  1  , predicted_val:  1\n",
      "validpred  83  real_val:  0  , predicted_val:  0\n",
      "validpred  84  real_val:  0  , predicted_val:  1\n",
      "validpred  85  real_val:  0  , predicted_val:  0\n",
      "validpred  86  real_val:  1  , predicted_val:  1\n",
      "validpred  87  real_val:  0  , predicted_val:  0\n",
      "validpred  88  real_val:  1  , predicted_val:  1\n",
      "validpred  89  real_val:  0  , predicted_val:  1\n",
      "validpred  90  real_val:  1  , predicted_val:  0\n",
      "validpred  91  real_val:  0  , predicted_val:  1\n",
      "validpred  92  real_val:  0  , predicted_val:  0\n",
      "validpred  93  real_val:  0  , predicted_val:  0\n",
      "validpred  94  real_val:  1  , predicted_val:  0\n",
      "validpred  95  real_val:  1  , predicted_val:  1\n",
      "validpred  96  real_val:  1  , predicted_val:  1\n",
      "validpred  97  real_val:  0  , predicted_val:  0\n",
      "validpred  98  real_val:  1  , predicted_val:  1\n",
      "validpred  99  real_val:  0  , predicted_val:  0\n",
      "validpred  100  real_val:  1  , predicted_val:  1\n",
      "validpred  101  real_val:  0  , predicted_val:  0\n",
      "validpred  102  real_val:  0  , predicted_val:  0\n",
      "validpred  103  real_val:  1  , predicted_val:  1\n",
      "validpred  104  real_val:  1  , predicted_val:  0\n",
      "validpred  105  real_val:  0  , predicted_val:  1\n",
      "validpred  106  real_val:  1  , predicted_val:  0\n",
      "validpred  107  real_val:  1  , predicted_val:  0\n",
      "validpred  108  real_val:  0  , predicted_val:  0\n",
      "validpred  109  real_val:  0  , predicted_val:  0\n",
      "validpred  110  real_val:  0  , predicted_val:  0\n",
      "validpred  111  real_val:  1  , predicted_val:  1\n",
      "validpred  112  real_val:  0  , predicted_val:  1\n",
      "validpred  113  real_val:  1  , predicted_val:  0\n",
      "validpred  114  real_val:  0  , predicted_val:  1\n",
      "validpred  115  real_val:  1  , predicted_val:  1\n",
      "validpred  116  real_val:  0  , predicted_val:  0\n",
      "validpred  117  real_val:  0  , predicted_val:  0\n",
      "validpred  118  real_val:  0  , predicted_val:  1\n",
      "validpred  119  real_val:  0  , predicted_val:  0\n",
      "validpred  120  real_val:  1  , predicted_val:  1\n",
      "validpred  121  real_val:  0  , predicted_val:  0\n",
      "validpred  122  real_val:  0  , predicted_val:  0\n",
      "validpred  123  real_val:  0  , predicted_val:  0\n",
      "validpred  124  real_val:  0  , predicted_val:  0\n",
      "validpred  125  real_val:  1  , predicted_val:  1\n",
      "validpred  126  real_val:  0  , predicted_val:  0\n",
      "validpred  127  real_val:  1  , predicted_val:  0\n",
      "validpred  128  real_val:  1  , predicted_val:  0\n",
      "validpred  129  real_val:  0  , predicted_val:  1\n",
      "validpred  130  real_val:  0  , predicted_val:  0\n",
      "validpred  131  real_val:  0  , predicted_val:  0\n",
      "validpred  132  real_val:  0  , predicted_val:  1\n",
      "validpred  133  real_val:  0  , predicted_val:  0\n",
      "validpred  134  real_val:  0  , predicted_val:  1\n",
      "validpred  135  real_val:  0  , predicted_val:  1\n",
      "validpred  136  real_val:  0  , predicted_val:  0\n",
      "validpred  137  real_val:  0  , predicted_val:  0\n",
      "validpred  138  real_val:  1  , predicted_val:  1\n",
      "validpred  139  real_val:  0  , predicted_val:  0\n",
      "validpred  140  real_val:  0  , predicted_val:  0\n",
      "validpred  141  real_val:  0  , predicted_val:  0\n",
      "validpred  142  real_val:  0  , predicted_val:  0\n",
      "validpred  143  real_val:  1  , predicted_val:  0\n",
      "validpred  144  real_val:  1  , predicted_val:  1\n",
      "validpred  145  real_val:  0  , predicted_val:  0\n",
      "validpred  146  real_val:  1  , predicted_val:  0\n",
      "validpred  147  real_val:  1  , predicted_val:  0\n",
      "validpred  148  real_val:  0  , predicted_val:  0\n",
      "validpred  149  real_val:  0  , predicted_val:  0\n",
      "validpred  150  real_val:  0  , predicted_val:  0\n",
      "validpred  151  real_val:  1  , predicted_val:  1\n",
      "validpred  152  real_val:  0  , predicted_val:  0\n",
      "validpred  153  real_val:  0  , predicted_val:  0\n",
      "validpred  154  real_val:  1  , predicted_val:  1\n",
      "validpred  155  real_val:  1  , predicted_val:  0\n",
      "validpred  156  real_val:  0  , predicted_val:  0\n",
      "validpred  157  real_val:  0  , predicted_val:  0\n",
      "validpred  158  real_val:  1  , predicted_val:  0\n",
      "validpred  159  real_val:  0  , predicted_val:  0\n",
      "validpred  160  real_val:  1  , predicted_val:  1\n",
      "validpred  161  real_val:  0  , predicted_val:  0\n",
      "validpred  162  real_val:  0  , predicted_val:  0\n",
      "validpred  163  real_val:  0  , predicted_val:  1\n",
      "validpred  164  real_val:  1  , predicted_val:  1\n",
      "validpred  165  real_val:  0  , predicted_val:  0\n",
      "validpred  166  real_val:  1  , predicted_val:  0\n",
      "validpred  167  real_val:  1  , predicted_val:  1\n",
      "validpred  168  real_val:  1  , predicted_val:  0\n",
      "validpred  169  real_val:  0  , predicted_val:  0\n",
      "validpred  170  real_val:  0  , predicted_val:  0\n",
      "validpred  171  real_val:  0  , predicted_val:  0\n",
      "validpred  172  real_val:  1  , predicted_val:  1\n",
      "validpred  173  real_val:  0  , predicted_val:  0\n",
      "validpred  174  real_val:  0  , predicted_val:  0\n",
      "validpred  175  real_val:  0  , predicted_val:  0\n",
      "validpred  176  real_val:  0  , predicted_val:  1\n",
      "validpred  177  real_val:  0  , predicted_val:  0\n",
      "validpred  178  real_val:  1  , predicted_val:  0\n"
     ]
    }
   ],
   "source": [
    "k = 5\n",
    "ypredknnval = []\n",
    "for i in range(len(X_valid)):\n",
    "    distpoint = knn(X_train,X_valid[i],5)\n",
    "    sortedArr = distpoint[distpoint[:,1].argsort()] \n",
    "    y = []\n",
    "    y_predknn = 0\n",
    "    for j in range(k):\n",
    "        y.append(y_train[int(sortedArr[:k,0][j])])\n",
    "        \n",
    "    y_predknn = np.bincount(y).argmax()\n",
    "    ypredknnval.append(y_predknn)\n",
    "    print('validpred ',i,' real_val: ',y_valid[i],' , predicted_val: ',y_predknn)\n"
   ]
  },
  {
   "cell_type": "markdown",
   "id": "7f51329d",
   "metadata": {},
   "source": [
    "#### loss function to check the validation if it's small,it's ok"
   ]
  },
  {
   "cell_type": "code",
   "execution_count": 43,
   "id": "ec59a5d0",
   "metadata": {},
   "outputs": [
    {
     "name": "stdout",
     "output_type": "stream",
     "text": [
      "0.055865921787709494\n"
     ]
    }
   ],
   "source": [
    "print(abs(np.mean(y_valid-ypredknnval)))"
   ]
  },
  {
   "cell_type": "markdown",
   "id": "4d474c91",
   "metadata": {},
   "source": [
    "#### do the same thing like before for test."
   ]
  },
  {
   "cell_type": "code",
   "execution_count": 44,
   "id": "6df8f9c7",
   "metadata": {},
   "outputs": [
    {
     "name": "stdout",
     "output_type": "stream",
     "text": [
      "testpred  0  :  0\n",
      "testpred  1  :  0\n",
      "testpred  2  :  0\n",
      "testpred  3  :  0\n",
      "testpred  4  :  0\n",
      "testpred  5  :  1\n",
      "testpred  6  :  0\n",
      "testpred  7  :  1\n",
      "testpred  8  :  0\n",
      "testpred  9  :  1\n",
      "testpred  10  :  0\n",
      "testpred  11  :  1\n",
      "testpred  12  :  1\n",
      "testpred  13  :  0\n",
      "testpred  14  :  1\n",
      "testpred  15  :  1\n",
      "testpred  16  :  0\n",
      "testpred  17  :  0\n",
      "testpred  18  :  1\n",
      "testpred  19  :  0\n",
      "testpred  20  :  1\n",
      "testpred  21  :  0\n",
      "testpred  22  :  0\n",
      "testpred  23  :  1\n",
      "testpred  24  :  1\n",
      "testpred  25  :  0\n",
      "testpred  26  :  1\n",
      "testpred  27  :  0\n",
      "testpred  28  :  1\n",
      "testpred  29  :  0\n",
      "testpred  30  :  1\n",
      "testpred  31  :  1\n",
      "testpred  32  :  0\n",
      "testpred  33  :  1\n",
      "testpred  34  :  1\n",
      "testpred  35  :  0\n",
      "testpred  36  :  0\n",
      "testpred  37  :  0\n",
      "testpred  38  :  0\n",
      "testpred  39  :  1\n",
      "testpred  40  :  0\n",
      "testpred  41  :  0\n",
      "testpred  42  :  0\n",
      "testpred  43  :  0\n",
      "testpred  44  :  1\n",
      "testpred  45  :  0\n",
      "testpred  46  :  1\n",
      "testpred  47  :  0\n",
      "testpred  48  :  1\n",
      "testpred  49  :  1\n",
      "testpred  50  :  1\n",
      "testpred  51  :  0\n",
      "testpred  52  :  1\n",
      "testpred  53  :  1\n",
      "testpred  54  :  0\n",
      "testpred  55  :  0\n",
      "testpred  56  :  0\n",
      "testpred  57  :  0\n",
      "testpred  58  :  0\n",
      "testpred  59  :  1\n",
      "testpred  60  :  0\n",
      "testpred  61  :  1\n",
      "testpred  62  :  0\n",
      "testpred  63  :  1\n",
      "testpred  64  :  1\n",
      "testpred  65  :  0\n",
      "testpred  66  :  0\n",
      "testpred  67  :  0\n",
      "testpred  68  :  1\n",
      "testpred  69  :  1\n",
      "testpred  70  :  0\n",
      "testpred  71  :  0\n",
      "testpred  72  :  0\n",
      "testpred  73  :  0\n",
      "testpred  74  :  1\n",
      "testpred  75  :  1\n",
      "testpred  76  :  0\n",
      "testpred  77  :  0\n",
      "testpred  78  :  0\n",
      "testpred  79  :  0\n",
      "testpred  80  :  1\n",
      "testpred  81  :  1\n",
      "testpred  82  :  1\n",
      "testpred  83  :  0\n",
      "testpred  84  :  0\n",
      "testpred  85  :  0\n",
      "testpred  86  :  1\n",
      "testpred  87  :  0\n",
      "testpred  88  :  0\n",
      "testpred  89  :  1\n",
      "testpred  90  :  1\n",
      "testpred  91  :  0\n",
      "testpred  92  :  1\n",
      "testpred  93  :  0\n",
      "testpred  94  :  0\n",
      "testpred  95  :  0\n",
      "testpred  96  :  1\n",
      "testpred  97  :  0\n",
      "testpred  98  :  0\n",
      "testpred  99  :  0\n",
      "testpred  100  :  1\n",
      "testpred  101  :  0\n",
      "testpred  102  :  0\n",
      "testpred  103  :  0\n",
      "testpred  104  :  0\n",
      "testpred  105  :  0\n",
      "testpred  106  :  0\n",
      "testpred  107  :  0\n",
      "testpred  108  :  0\n",
      "testpred  109  :  0\n",
      "testpred  110  :  0\n",
      "testpred  111  :  0\n",
      "testpred  112  :  1\n",
      "testpred  113  :  1\n",
      "testpred  114  :  1\n",
      "testpred  115  :  0\n",
      "testpred  116  :  0\n",
      "testpred  117  :  1\n",
      "testpred  118  :  1\n",
      "testpred  119  :  1\n",
      "testpred  120  :  1\n",
      "testpred  121  :  0\n",
      "testpred  122  :  1\n",
      "testpred  123  :  0\n",
      "testpred  124  :  0\n",
      "testpred  125  :  0\n",
      "testpred  126  :  0\n",
      "testpred  127  :  1\n",
      "testpred  128  :  0\n",
      "testpred  129  :  0\n",
      "testpred  130  :  1\n",
      "testpred  131  :  0\n",
      "testpred  132  :  1\n",
      "testpred  133  :  0\n",
      "testpred  134  :  0\n",
      "testpred  135  :  0\n",
      "testpred  136  :  0\n",
      "testpred  137  :  0\n",
      "testpred  138  :  1\n",
      "testpred  139  :  0\n",
      "testpred  140  :  0\n",
      "testpred  141  :  1\n",
      "testpred  142  :  1\n",
      "testpred  143  :  0\n",
      "testpred  144  :  0\n",
      "testpred  145  :  1\n",
      "testpred  146  :  1\n",
      "testpred  147  :  0\n",
      "testpred  148  :  0\n",
      "testpred  149  :  1\n",
      "testpred  150  :  1\n",
      "testpred  151  :  0\n",
      "testpred  152  :  0\n",
      "testpred  153  :  0\n",
      "testpred  154  :  0\n",
      "testpred  155  :  0\n",
      "testpred  156  :  1\n",
      "testpred  157  :  1\n",
      "testpred  158  :  0\n",
      "testpred  159  :  0\n",
      "testpred  160  :  1\n",
      "testpred  161  :  1\n",
      "testpred  162  :  0\n",
      "testpred  163  :  0\n",
      "testpred  164  :  0\n",
      "testpred  165  :  0\n",
      "testpred  166  :  0\n",
      "testpred  167  :  0\n",
      "testpred  168  :  1\n",
      "testpred  169  :  0\n",
      "testpred  170  :  0\n",
      "testpred  171  :  0\n",
      "testpred  172  :  0\n",
      "testpred  173  :  0\n",
      "testpred  174  :  0\n",
      "testpred  175  :  0\n",
      "testpred  176  :  0\n",
      "testpred  177  :  1\n",
      "testpred  178  :  0\n",
      "testpred  179  :  1\n",
      "testpred  180  :  0\n",
      "testpred  181  :  1\n",
      "testpred  182  :  1\n",
      "testpred  183  :  0\n",
      "testpred  184  :  1\n",
      "testpred  185  :  0\n",
      "testpred  186  :  1\n",
      "testpred  187  :  0\n",
      "testpred  188  :  0\n",
      "testpred  189  :  0\n",
      "testpred  190  :  1\n",
      "testpred  191  :  0\n",
      "testpred  192  :  1\n",
      "testpred  193  :  0\n",
      "testpred  194  :  0\n",
      "testpred  195  :  0\n",
      "testpred  196  :  1\n",
      "testpred  197  :  0\n",
      "testpred  198  :  0\n",
      "testpred  199  :  1\n",
      "testpred  200  :  1\n",
      "testpred  201  :  1\n",
      "testpred  202  :  1\n",
      "testpred  203  :  1\n",
      "testpred  204  :  0\n",
      "testpred  205  :  0\n",
      "testpred  206  :  0\n",
      "testpred  207  :  0\n",
      "testpred  208  :  1\n",
      "testpred  209  :  0\n",
      "testpred  210  :  0\n",
      "testpred  211  :  0\n",
      "testpred  212  :  0\n",
      "testpred  213  :  0\n",
      "testpred  214  :  0\n",
      "testpred  215  :  0\n",
      "testpred  216  :  0\n",
      "testpred  217  :  1\n",
      "testpred  218  :  1\n",
      "testpred  219  :  0\n",
      "testpred  220  :  0\n",
      "testpred  221  :  0\n",
      "testpred  222  :  0\n",
      "testpred  223  :  0\n",
      "testpred  224  :  0\n",
      "testpred  225  :  0\n",
      "testpred  226  :  0\n",
      "testpred  227  :  0\n",
      "testpred  228  :  0\n",
      "testpred  229  :  1\n",
      "testpred  230  :  1\n",
      "testpred  231  :  1\n",
      "testpred  232  :  0\n",
      "testpred  233  :  0\n",
      "testpred  234  :  0\n",
      "testpred  235  :  0\n",
      "testpred  236  :  1\n",
      "testpred  237  :  0\n",
      "testpred  238  :  0\n",
      "testpred  239  :  0\n",
      "testpred  240  :  0\n",
      "testpred  241  :  1\n",
      "testpred  242  :  1\n",
      "testpred  243  :  0\n",
      "testpred  244  :  0\n",
      "testpred  245  :  1\n",
      "testpred  246  :  0\n",
      "testpred  247  :  1\n",
      "testpred  248  :  1\n",
      "testpred  249  :  1\n",
      "testpred  250  :  1\n",
      "testpred  251  :  0\n",
      "testpred  252  :  1\n",
      "testpred  253  :  0\n",
      "testpred  254  :  0\n",
      "testpred  255  :  0\n",
      "testpred  256  :  0\n",
      "testpred  257  :  0\n",
      "testpred  258  :  0\n",
      "testpred  259  :  0\n",
      "testpred  260  :  1\n",
      "testpred  261  :  0\n",
      "testpred  262  :  0\n",
      "testpred  263  :  1\n",
      "testpred  264  :  0\n",
      "testpred  265  :  0\n",
      "testpred  266  :  0\n",
      "testpred  267  :  0\n",
      "testpred  268  :  0\n",
      "testpred  269  :  0\n",
      "testpred  270  :  0\n",
      "testpred  271  :  0\n",
      "testpred  272  :  1\n",
      "testpred  273  :  0\n",
      "testpred  274  :  0\n",
      "testpred  275  :  1\n",
      "testpred  276  :  0\n",
      "testpred  277  :  0\n",
      "testpred  278  :  0\n",
      "testpred  279  :  0\n",
      "testpred  280  :  0\n",
      "testpred  281  :  1\n",
      "testpred  282  :  0\n",
      "testpred  283  :  1\n",
      "testpred  284  :  1\n",
      "testpred  285  :  0\n",
      "testpred  286  :  0\n",
      "testpred  287  :  1\n",
      "testpred  288  :  0\n",
      "testpred  289  :  0\n",
      "testpred  290  :  0\n",
      "testpred  291  :  0\n",
      "testpred  292  :  0\n",
      "testpred  293  :  1\n",
      "testpred  294  :  0\n",
      "testpred  295  :  0\n",
      "testpred  296  :  0\n",
      "testpred  297  :  0\n",
      "testpred  298  :  0\n",
      "testpred  299  :  0\n",
      "testpred  300  :  1\n",
      "testpred  301  :  0\n",
      "testpred  302  :  0\n",
      "testpred  303  :  0\n",
      "testpred  304  :  0\n",
      "testpred  305  :  0\n",
      "testpred  306  :  1\n",
      "testpred  307  :  1\n",
      "testpred  308  :  1\n",
      "testpred  309  :  0\n",
      "testpred  310  :  0\n",
      "testpred  311  :  0\n",
      "testpred  312  :  0\n",
      "testpred  313  :  0\n",
      "testpred  314  :  1\n",
      "testpred  315  :  1\n",
      "testpred  316  :  1\n",
      "testpred  317  :  0\n",
      "testpred  318  :  0\n",
      "testpred  319  :  1\n",
      "testpred  320  :  0\n",
      "testpred  321  :  0\n",
      "testpred  322  :  0\n",
      "testpred  323  :  1\n",
      "testpred  324  :  1\n",
      "testpred  325  :  0\n",
      "testpred  326  :  0\n",
      "testpred  327  :  1\n",
      "testpred  328  :  0\n",
      "testpred  329  :  0\n",
      "testpred  330  :  0\n",
      "testpred  331  :  0\n",
      "testpred  332  :  0\n",
      "testpred  333  :  0\n",
      "testpred  334  :  0\n",
      "testpred  335  :  1\n",
      "testpred  336  :  1\n",
      "testpred  337  :  0\n",
      "testpred  338  :  1\n",
      "testpred  339  :  0\n",
      "testpred  340  :  0\n",
      "testpred  341  :  1\n",
      "testpred  342  :  1\n",
      "testpred  343  :  1\n",
      "testpred  344  :  0\n",
      "testpred  345  :  1\n",
      "testpred  346  :  0\n",
      "testpred  347  :  0\n",
      "testpred  348  :  0\n",
      "testpred  349  :  0\n",
      "testpred  350  :  1\n",
      "testpred  351  :  0\n",
      "testpred  352  :  0\n",
      "testpred  353  :  1\n",
      "testpred  354  :  1\n",
      "testpred  355  :  1\n",
      "testpred  356  :  1\n",
      "testpred  357  :  0\n",
      "testpred  358  :  0\n",
      "testpred  359  :  0\n",
      "testpred  360  :  0\n",
      "testpred  361  :  0\n",
      "testpred  362  :  0\n",
      "testpred  363  :  0\n",
      "testpred  364  :  1\n",
      "testpred  365  :  1\n",
      "testpred  366  :  1\n",
      "testpred  367  :  0\n",
      "testpred  368  :  1\n",
      "testpred  369  :  0\n",
      "testpred  370  :  0\n",
      "testpred  371  :  1\n",
      "testpred  372  :  0\n",
      "testpred  373  :  0\n",
      "testpred  374  :  1\n",
      "testpred  375  :  1\n",
      "testpred  376  :  0\n",
      "testpred  377  :  0\n",
      "testpred  378  :  1\n",
      "testpred  379  :  0\n",
      "testpred  380  :  1\n",
      "testpred  381  :  0\n",
      "testpred  382  :  0\n",
      "testpred  383  :  0\n",
      "testpred  384  :  0\n",
      "testpred  385  :  1\n",
      "testpred  386  :  0\n",
      "testpred  387  :  0\n",
      "testpred  388  :  0\n",
      "testpred  389  :  1\n",
      "testpred  390  :  1\n",
      "testpred  391  :  0\n",
      "testpred  392  :  0\n",
      "testpred  393  :  0\n",
      "testpred  394  :  0\n",
      "testpred  395  :  1\n",
      "testpred  396  :  0\n",
      "testpred  397  :  1\n",
      "testpred  398  :  0\n",
      "testpred  399  :  0\n",
      "testpred  400  :  1\n",
      "testpred  401  :  0\n",
      "testpred  402  :  1\n",
      "testpred  403  :  0\n",
      "testpred  404  :  0\n",
      "testpred  405  :  0\n",
      "testpred  406  :  0\n",
      "testpred  407  :  1\n",
      "testpred  408  :  1\n",
      "testpred  409  :  1\n",
      "testpred  410  :  1\n",
      "testpred  411  :  1\n",
      "testpred  412  :  0\n",
      "testpred  413  :  0\n",
      "testpred  414  :  1\n",
      "testpred  415  :  0\n",
      "testpred  416  :  0\n",
      "testpred  417  :  0\n"
     ]
    }
   ],
   "source": [
    "k = 5\n",
    "ypredknntest = []\n",
    "for i in range(len(X_test)):\n",
    "    distpoint = knn(X_train,X_test[i],5)\n",
    "    sortedArr = distpoint[distpoint[:,1].argsort()]  \n",
    "    y = []\n",
    "    y_predknn = 0\n",
    "    for j in range(k):\n",
    "        y.append(y_train[int(sortedArr[:k,0][j])])\n",
    "        \n",
    "    y_predknn = np.bincount(y).argmax()\n",
    "    ypredknntest.append(y_predknn)\n",
    "    print('testpred ',i,' : ',y_predknn)\n"
   ]
  },
  {
   "cell_type": "markdown",
   "id": "aa064492",
   "metadata": {},
   "source": [
    "#### define a new column to show the predicted values by knn algo"
   ]
  },
  {
   "cell_type": "code",
   "execution_count": 45,
   "id": "cc17ef48",
   "metadata": {},
   "outputs": [],
   "source": [
    "dftest['KnnSurvived'] = np.array(ypredknntest)"
   ]
  },
  {
   "cell_type": "code",
   "execution_count": 46,
   "id": "dd05a639",
   "metadata": {},
   "outputs": [
    {
     "data": {
      "text/html": [
       "<div>\n",
       "<style scoped>\n",
       "    .dataframe tbody tr th:only-of-type {\n",
       "        vertical-align: middle;\n",
       "    }\n",
       "\n",
       "    .dataframe tbody tr th {\n",
       "        vertical-align: top;\n",
       "    }\n",
       "\n",
       "    .dataframe thead th {\n",
       "        text-align: right;\n",
       "    }\n",
       "</style>\n",
       "<table border=\"1\" class=\"dataframe\">\n",
       "  <thead>\n",
       "    <tr style=\"text-align: right;\">\n",
       "      <th></th>\n",
       "      <th>Pclass</th>\n",
       "      <th>Sex</th>\n",
       "      <th>Age</th>\n",
       "      <th>SibSp</th>\n",
       "      <th>Parch</th>\n",
       "      <th>Fare</th>\n",
       "      <th>Embarked_C</th>\n",
       "      <th>Embarked_Q</th>\n",
       "      <th>Embarked_S</th>\n",
       "      <th>KnnSurvived</th>\n",
       "    </tr>\n",
       "  </thead>\n",
       "  <tbody>\n",
       "    <tr>\n",
       "      <th>0</th>\n",
       "      <td>3</td>\n",
       "      <td>1</td>\n",
       "      <td>34.5</td>\n",
       "      <td>0</td>\n",
       "      <td>0</td>\n",
       "      <td>7.8292</td>\n",
       "      <td>0</td>\n",
       "      <td>1</td>\n",
       "      <td>0</td>\n",
       "      <td>0</td>\n",
       "    </tr>\n",
       "    <tr>\n",
       "      <th>1</th>\n",
       "      <td>3</td>\n",
       "      <td>0</td>\n",
       "      <td>47.0</td>\n",
       "      <td>1</td>\n",
       "      <td>0</td>\n",
       "      <td>7.0000</td>\n",
       "      <td>0</td>\n",
       "      <td>0</td>\n",
       "      <td>1</td>\n",
       "      <td>0</td>\n",
       "    </tr>\n",
       "    <tr>\n",
       "      <th>2</th>\n",
       "      <td>2</td>\n",
       "      <td>1</td>\n",
       "      <td>62.0</td>\n",
       "      <td>0</td>\n",
       "      <td>0</td>\n",
       "      <td>9.6875</td>\n",
       "      <td>0</td>\n",
       "      <td>1</td>\n",
       "      <td>0</td>\n",
       "      <td>0</td>\n",
       "    </tr>\n",
       "    <tr>\n",
       "      <th>3</th>\n",
       "      <td>3</td>\n",
       "      <td>1</td>\n",
       "      <td>27.0</td>\n",
       "      <td>0</td>\n",
       "      <td>0</td>\n",
       "      <td>8.6625</td>\n",
       "      <td>0</td>\n",
       "      <td>0</td>\n",
       "      <td>1</td>\n",
       "      <td>0</td>\n",
       "    </tr>\n",
       "    <tr>\n",
       "      <th>4</th>\n",
       "      <td>3</td>\n",
       "      <td>0</td>\n",
       "      <td>22.0</td>\n",
       "      <td>1</td>\n",
       "      <td>1</td>\n",
       "      <td>12.2875</td>\n",
       "      <td>0</td>\n",
       "      <td>0</td>\n",
       "      <td>1</td>\n",
       "      <td>0</td>\n",
       "    </tr>\n",
       "    <tr>\n",
       "      <th>...</th>\n",
       "      <td>...</td>\n",
       "      <td>...</td>\n",
       "      <td>...</td>\n",
       "      <td>...</td>\n",
       "      <td>...</td>\n",
       "      <td>...</td>\n",
       "      <td>...</td>\n",
       "      <td>...</td>\n",
       "      <td>...</td>\n",
       "      <td>...</td>\n",
       "    </tr>\n",
       "    <tr>\n",
       "      <th>413</th>\n",
       "      <td>3</td>\n",
       "      <td>1</td>\n",
       "      <td>33.5</td>\n",
       "      <td>0</td>\n",
       "      <td>0</td>\n",
       "      <td>8.0500</td>\n",
       "      <td>0</td>\n",
       "      <td>0</td>\n",
       "      <td>1</td>\n",
       "      <td>0</td>\n",
       "    </tr>\n",
       "    <tr>\n",
       "      <th>414</th>\n",
       "      <td>1</td>\n",
       "      <td>0</td>\n",
       "      <td>39.0</td>\n",
       "      <td>0</td>\n",
       "      <td>0</td>\n",
       "      <td>108.9000</td>\n",
       "      <td>1</td>\n",
       "      <td>0</td>\n",
       "      <td>0</td>\n",
       "      <td>1</td>\n",
       "    </tr>\n",
       "    <tr>\n",
       "      <th>415</th>\n",
       "      <td>3</td>\n",
       "      <td>1</td>\n",
       "      <td>38.5</td>\n",
       "      <td>0</td>\n",
       "      <td>0</td>\n",
       "      <td>7.2500</td>\n",
       "      <td>0</td>\n",
       "      <td>0</td>\n",
       "      <td>1</td>\n",
       "      <td>0</td>\n",
       "    </tr>\n",
       "    <tr>\n",
       "      <th>416</th>\n",
       "      <td>3</td>\n",
       "      <td>1</td>\n",
       "      <td>38.5</td>\n",
       "      <td>0</td>\n",
       "      <td>0</td>\n",
       "      <td>8.0500</td>\n",
       "      <td>0</td>\n",
       "      <td>0</td>\n",
       "      <td>1</td>\n",
       "      <td>0</td>\n",
       "    </tr>\n",
       "    <tr>\n",
       "      <th>417</th>\n",
       "      <td>3</td>\n",
       "      <td>1</td>\n",
       "      <td>38.5</td>\n",
       "      <td>1</td>\n",
       "      <td>1</td>\n",
       "      <td>22.3583</td>\n",
       "      <td>1</td>\n",
       "      <td>0</td>\n",
       "      <td>0</td>\n",
       "      <td>0</td>\n",
       "    </tr>\n",
       "  </tbody>\n",
       "</table>\n",
       "<p>418 rows × 10 columns</p>\n",
       "</div>"
      ],
      "text/plain": [
       "     Pclass  Sex   Age  SibSp  Parch      Fare  Embarked_C  Embarked_Q  \\\n",
       "0         3    1  34.5      0      0    7.8292           0           1   \n",
       "1         3    0  47.0      1      0    7.0000           0           0   \n",
       "2         2    1  62.0      0      0    9.6875           0           1   \n",
       "3         3    1  27.0      0      0    8.6625           0           0   \n",
       "4         3    0  22.0      1      1   12.2875           0           0   \n",
       "..      ...  ...   ...    ...    ...       ...         ...         ...   \n",
       "413       3    1  33.5      0      0    8.0500           0           0   \n",
       "414       1    0  39.0      0      0  108.9000           1           0   \n",
       "415       3    1  38.5      0      0    7.2500           0           0   \n",
       "416       3    1  38.5      0      0    8.0500           0           0   \n",
       "417       3    1  38.5      1      1   22.3583           1           0   \n",
       "\n",
       "     Embarked_S  KnnSurvived  \n",
       "0             0            0  \n",
       "1             1            0  \n",
       "2             0            0  \n",
       "3             1            0  \n",
       "4             1            0  \n",
       "..          ...          ...  \n",
       "413           1            0  \n",
       "414           0            1  \n",
       "415           1            0  \n",
       "416           1            0  \n",
       "417           0            0  \n",
       "\n",
       "[418 rows x 10 columns]"
      ]
     },
     "execution_count": 46,
     "metadata": {},
     "output_type": "execute_result"
    }
   ],
   "source": [
    "dftest"
   ]
  },
  {
   "cell_type": "markdown",
   "id": "6909aed0",
   "metadata": {},
   "source": [
    "### SVM"
   ]
  },
  {
   "cell_type": "markdown",
   "id": "c70ea89b",
   "metadata": {},
   "source": [
    "#### from sklearn we import needed functions to fit our model and predict the x_valid at first for validation.\n",
    "#### compute the loss function for validation\n",
    "#### then try to know the accuracy of training and validating.(that we see they are almost in a range)"
   ]
  },
  {
   "cell_type": "code",
   "execution_count": 47,
   "id": "04e1e155",
   "metadata": {},
   "outputs": [
    {
     "name": "stdout",
     "output_type": "stream",
     "text": [
      "loss for valid data: \n",
      "0.24022346368715083\n",
      "accuracy score(training):  0.6811797752808989\n",
      "accuracy score(validation):  0.6703910614525139\n"
     ]
    }
   ],
   "source": [
    "from sklearn.svm import SVC\n",
    "model = SVC()\n",
    "model.fit(X_train,y_train)\n",
    "y_pred = model.predict(X_valid)\n",
    "\n",
    "print('loss for valid data: ')\n",
    "print(abs(np.mean(y_pred - y_valid)))\n",
    "\n",
    "print('accuracy score(training): ',model.score(X_train,y_train))\n",
    "print(f'accuracy score(validation): ',model.score(X_valid,y_valid))"
   ]
  },
  {
   "cell_type": "markdown",
   "id": "3661312d",
   "metadata": {},
   "source": [
    "#### try to predict using predict method in SVM and print it"
   ]
  },
  {
   "cell_type": "code",
   "execution_count": 48,
   "id": "1a8b0f75",
   "metadata": {},
   "outputs": [
    {
     "name": "stdout",
     "output_type": "stream",
     "text": [
      "[0 0 0 0 0 0 0 0 0 0 0 0 1 0 1 0 0 0 0 0 1 0 0 1 1 0 1 0 0 0 0 0 0 0 1 0 0\n",
      " 0 0 1 0 0 0 0 0 0 0 0 1 0 1 0 0 1 0 0 0 0 0 1 0 0 0 0 1 0 0 0 0 1 0 0 0 0\n",
      " 1 1 0 0 0 0 0 1 0 0 0 0 0 0 0 0 0 0 1 0 0 0 1 0 0 0 1 0 0 0 0 0 0 0 0 0 0\n",
      " 0 0 0 1 0 0 0 1 0 0 0 1 0 0 0 0 0 0 0 0 0 0 0 0 0 0 0 0 0 0 1 1 0 0 0 1 0\n",
      " 0 0 1 0 0 0 0 0 1 0 0 0 0 0 0 0 0 0 0 0 0 0 0 0 0 0 0 0 0 0 0 1 0 1 1 0 1\n",
      " 0 0 0 1 0 0 0 0 0 0 0 1 0 0 0 0 0 1 0 0 0 0 0 0 0 0 0 1 0 0 0 0 1 1 0 0 0\n",
      " 0 0 0 0 0 0 0 0 1 0 0 0 1 0 1 0 0 1 0 0 1 0 0 0 0 0 0 0 0 0 1 0 0 0 0 0 0\n",
      " 0 0 0 0 0 0 0 0 0 0 0 1 0 1 0 0 0 0 0 0 0 0 0 0 0 0 0 0 1 0 0 0 0 0 1 0 0\n",
      " 0 0 0 0 0 0 0 0 0 0 1 0 1 0 0 0 0 0 1 0 1 0 0 0 0 0 0 0 1 0 0 1 0 0 0 0 0\n",
      " 0 0 0 0 0 0 0 0 0 1 1 0 0 0 0 0 0 1 0 1 1 0 0 0 0 0 0 1 0 0 0 1 1 0 0 1 0\n",
      " 0 1 0 0 1 1 0 0 0 0 0 0 0 0 0 1 0 0 0 0 1 0 0 0 0 1 0 1 0 0 1 0 1 0 0 0 0\n",
      " 1 0 0 0 1 0 0 1 0 0 0]\n"
     ]
    }
   ],
   "source": [
    "ypred_test = model.predict(X_test)\n",
    "print(ypred_test)"
   ]
  },
  {
   "cell_type": "markdown",
   "id": "20d1530d",
   "metadata": {},
   "source": [
    "#### define a new column to show the predicted values by SVM algo"
   ]
  },
  {
   "cell_type": "code",
   "execution_count": 49,
   "id": "9b6eed4e",
   "metadata": {},
   "outputs": [
    {
     "data": {
      "text/html": [
       "<div>\n",
       "<style scoped>\n",
       "    .dataframe tbody tr th:only-of-type {\n",
       "        vertical-align: middle;\n",
       "    }\n",
       "\n",
       "    .dataframe tbody tr th {\n",
       "        vertical-align: top;\n",
       "    }\n",
       "\n",
       "    .dataframe thead th {\n",
       "        text-align: right;\n",
       "    }\n",
       "</style>\n",
       "<table border=\"1\" class=\"dataframe\">\n",
       "  <thead>\n",
       "    <tr style=\"text-align: right;\">\n",
       "      <th></th>\n",
       "      <th>Pclass</th>\n",
       "      <th>Sex</th>\n",
       "      <th>Age</th>\n",
       "      <th>SibSp</th>\n",
       "      <th>Parch</th>\n",
       "      <th>Fare</th>\n",
       "      <th>Embarked_C</th>\n",
       "      <th>Embarked_Q</th>\n",
       "      <th>Embarked_S</th>\n",
       "      <th>KnnSurvived</th>\n",
       "      <th>SvmSurvived</th>\n",
       "    </tr>\n",
       "  </thead>\n",
       "  <tbody>\n",
       "    <tr>\n",
       "      <th>0</th>\n",
       "      <td>3</td>\n",
       "      <td>1</td>\n",
       "      <td>34.5</td>\n",
       "      <td>0</td>\n",
       "      <td>0</td>\n",
       "      <td>7.8292</td>\n",
       "      <td>0</td>\n",
       "      <td>1</td>\n",
       "      <td>0</td>\n",
       "      <td>0</td>\n",
       "      <td>0</td>\n",
       "    </tr>\n",
       "    <tr>\n",
       "      <th>1</th>\n",
       "      <td>3</td>\n",
       "      <td>0</td>\n",
       "      <td>47.0</td>\n",
       "      <td>1</td>\n",
       "      <td>0</td>\n",
       "      <td>7.0000</td>\n",
       "      <td>0</td>\n",
       "      <td>0</td>\n",
       "      <td>1</td>\n",
       "      <td>0</td>\n",
       "      <td>0</td>\n",
       "    </tr>\n",
       "    <tr>\n",
       "      <th>2</th>\n",
       "      <td>2</td>\n",
       "      <td>1</td>\n",
       "      <td>62.0</td>\n",
       "      <td>0</td>\n",
       "      <td>0</td>\n",
       "      <td>9.6875</td>\n",
       "      <td>0</td>\n",
       "      <td>1</td>\n",
       "      <td>0</td>\n",
       "      <td>0</td>\n",
       "      <td>0</td>\n",
       "    </tr>\n",
       "    <tr>\n",
       "      <th>3</th>\n",
       "      <td>3</td>\n",
       "      <td>1</td>\n",
       "      <td>27.0</td>\n",
       "      <td>0</td>\n",
       "      <td>0</td>\n",
       "      <td>8.6625</td>\n",
       "      <td>0</td>\n",
       "      <td>0</td>\n",
       "      <td>1</td>\n",
       "      <td>0</td>\n",
       "      <td>0</td>\n",
       "    </tr>\n",
       "    <tr>\n",
       "      <th>4</th>\n",
       "      <td>3</td>\n",
       "      <td>0</td>\n",
       "      <td>22.0</td>\n",
       "      <td>1</td>\n",
       "      <td>1</td>\n",
       "      <td>12.2875</td>\n",
       "      <td>0</td>\n",
       "      <td>0</td>\n",
       "      <td>1</td>\n",
       "      <td>0</td>\n",
       "      <td>0</td>\n",
       "    </tr>\n",
       "    <tr>\n",
       "      <th>...</th>\n",
       "      <td>...</td>\n",
       "      <td>...</td>\n",
       "      <td>...</td>\n",
       "      <td>...</td>\n",
       "      <td>...</td>\n",
       "      <td>...</td>\n",
       "      <td>...</td>\n",
       "      <td>...</td>\n",
       "      <td>...</td>\n",
       "      <td>...</td>\n",
       "      <td>...</td>\n",
       "    </tr>\n",
       "    <tr>\n",
       "      <th>413</th>\n",
       "      <td>3</td>\n",
       "      <td>1</td>\n",
       "      <td>33.5</td>\n",
       "      <td>0</td>\n",
       "      <td>0</td>\n",
       "      <td>8.0500</td>\n",
       "      <td>0</td>\n",
       "      <td>0</td>\n",
       "      <td>1</td>\n",
       "      <td>0</td>\n",
       "      <td>0</td>\n",
       "    </tr>\n",
       "    <tr>\n",
       "      <th>414</th>\n",
       "      <td>1</td>\n",
       "      <td>0</td>\n",
       "      <td>39.0</td>\n",
       "      <td>0</td>\n",
       "      <td>0</td>\n",
       "      <td>108.9000</td>\n",
       "      <td>1</td>\n",
       "      <td>0</td>\n",
       "      <td>0</td>\n",
       "      <td>1</td>\n",
       "      <td>1</td>\n",
       "    </tr>\n",
       "    <tr>\n",
       "      <th>415</th>\n",
       "      <td>3</td>\n",
       "      <td>1</td>\n",
       "      <td>38.5</td>\n",
       "      <td>0</td>\n",
       "      <td>0</td>\n",
       "      <td>7.2500</td>\n",
       "      <td>0</td>\n",
       "      <td>0</td>\n",
       "      <td>1</td>\n",
       "      <td>0</td>\n",
       "      <td>0</td>\n",
       "    </tr>\n",
       "    <tr>\n",
       "      <th>416</th>\n",
       "      <td>3</td>\n",
       "      <td>1</td>\n",
       "      <td>38.5</td>\n",
       "      <td>0</td>\n",
       "      <td>0</td>\n",
       "      <td>8.0500</td>\n",
       "      <td>0</td>\n",
       "      <td>0</td>\n",
       "      <td>1</td>\n",
       "      <td>0</td>\n",
       "      <td>0</td>\n",
       "    </tr>\n",
       "    <tr>\n",
       "      <th>417</th>\n",
       "      <td>3</td>\n",
       "      <td>1</td>\n",
       "      <td>38.5</td>\n",
       "      <td>1</td>\n",
       "      <td>1</td>\n",
       "      <td>22.3583</td>\n",
       "      <td>1</td>\n",
       "      <td>0</td>\n",
       "      <td>0</td>\n",
       "      <td>0</td>\n",
       "      <td>0</td>\n",
       "    </tr>\n",
       "  </tbody>\n",
       "</table>\n",
       "<p>418 rows × 11 columns</p>\n",
       "</div>"
      ],
      "text/plain": [
       "     Pclass  Sex   Age  SibSp  Parch      Fare  Embarked_C  Embarked_Q  \\\n",
       "0         3    1  34.5      0      0    7.8292           0           1   \n",
       "1         3    0  47.0      1      0    7.0000           0           0   \n",
       "2         2    1  62.0      0      0    9.6875           0           1   \n",
       "3         3    1  27.0      0      0    8.6625           0           0   \n",
       "4         3    0  22.0      1      1   12.2875           0           0   \n",
       "..      ...  ...   ...    ...    ...       ...         ...         ...   \n",
       "413       3    1  33.5      0      0    8.0500           0           0   \n",
       "414       1    0  39.0      0      0  108.9000           1           0   \n",
       "415       3    1  38.5      0      0    7.2500           0           0   \n",
       "416       3    1  38.5      0      0    8.0500           0           0   \n",
       "417       3    1  38.5      1      1   22.3583           1           0   \n",
       "\n",
       "     Embarked_S  KnnSurvived  SvmSurvived  \n",
       "0             0            0            0  \n",
       "1             1            0            0  \n",
       "2             0            0            0  \n",
       "3             1            0            0  \n",
       "4             1            0            0  \n",
       "..          ...          ...          ...  \n",
       "413           1            0            0  \n",
       "414           0            1            1  \n",
       "415           1            0            0  \n",
       "416           1            0            0  \n",
       "417           0            0            0  \n",
       "\n",
       "[418 rows x 11 columns]"
      ]
     },
     "execution_count": 49,
     "metadata": {},
     "output_type": "execute_result"
    }
   ],
   "source": [
    "dftest['SvmSurvived'] = ypred_test.tolist()\n",
    "dftest"
   ]
  },
  {
   "cell_type": "code",
   "execution_count": null,
   "id": "f2628a16",
   "metadata": {},
   "outputs": [],
   "source": []
  }
 ],
 "metadata": {
  "kernelspec": {
   "display_name": "Python 3",
   "language": "python",
   "name": "python3"
  },
  "language_info": {
   "codemirror_mode": {
    "name": "ipython",
    "version": 3
   },
   "file_extension": ".py",
   "mimetype": "text/x-python",
   "name": "python",
   "nbconvert_exporter": "python",
   "pygments_lexer": "ipython3",
   "version": "3.8.8"
  }
 },
 "nbformat": 4,
 "nbformat_minor": 5
}
